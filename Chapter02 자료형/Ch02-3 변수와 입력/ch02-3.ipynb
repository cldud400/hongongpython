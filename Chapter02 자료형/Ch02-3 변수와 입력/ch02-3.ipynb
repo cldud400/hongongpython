{
 "cells": [
  {
   "cell_type": "markdown",
   "metadata": {},
   "source": [
    "### 02-3 변수와 입력\n",
    "---\n",
    "#### 시작하기 전에\n",
    "***변수***란 값을 저장하여 사용하기 위한 식별자이다."
   ]
  },
  {
   "cell_type": "markdown",
   "metadata": {},
   "source": [
    "> 변수(Variable) 만들기(사용)"
   ]
  },
  {
   "cell_type": "code",
   "execution_count": 1,
   "metadata": {},
   "outputs": [
    {
     "name": "stdout",
     "output_type": "stream",
     "text": [
      "2260515646576\n",
      "계좌잔고: 300000 원\n"
     ]
    }
   ],
   "source": [
    "account = 1_000_000\n",
    "notebook = 500_000\n",
    "earphone = 200_000\n",
    "\n",
    "print(id(account))\n",
    "\n",
    "balance = account - (notebook + earphone)\n",
    "\n",
    "print(\"계좌잔고:\", balance, '원')"
   ]
  },
  {
   "cell_type": "markdown",
   "metadata": {},
   "source": [
    "> 복합대입연산자 : '+=', '-=', '*=', '/=', '%=', '**='"
   ]
  },
  {
   "cell_type": "code",
   "execution_count": 11,
   "metadata": {},
   "outputs": [
    {
     "name": "stdout",
     "output_type": "stream",
     "text": [
      "1\n",
      "10\n",
      "2.0\n",
      "안녕하세요! 여러분\n",
      "~ ~ ~ ~ ~ ~ ~ ~ ~ ~ \n"
     ]
    }
   ],
   "source": [
    "a = 0\n",
    "\n",
    "print(a + 1)\n",
    "a += 10     # a = a + 10\n",
    "print(a)\n",
    "\n",
    "a /= 5      # a = a / 5\n",
    "print(a)\n",
    "\n",
    "# 문자열 연산 (+ , *)\n",
    "string = '안녕하세요!'\n",
    "string += ' 여러분'\n",
    "print(string)\n",
    "\n",
    "ch = '~ '\n",
    "ch *= 10\n",
    "print(ch)"
   ]
  },
  {
   "cell_type": "markdown",
   "metadata": {},
   "source": [
    "> 사용자 입력 : input()"
   ]
  },
  {
   "cell_type": "code",
   "execution_count": 16,
   "metadata": {},
   "outputs": [
    {
     "name": "stdout",
     "output_type": "stream",
     "text": [
      "<class 'str'>\n",
      "20\n"
     ]
    }
   ],
   "source": [
    "keyboard = input('숫자를 입력해 주세요: ')     # 결과물은 str이다.\n",
    "print(type(keyboard))\n",
    "\n",
    "print(int(keyboard) + 10)"
   ]
  },
  {
   "cell_type": "markdown",
   "metadata": {},
   "source": [
    "> 타입 캐스팅(형변환)"
   ]
  },
  {
   "cell_type": "code",
   "execution_count": 29,
   "metadata": {},
   "outputs": [
    {
     "name": "stdout",
     "output_type": "stream",
     "text": [
      "입력값:  10  <class 'str'>\n",
      "int(입력값): 10  <class 'int'>\n",
      "입력값 + 10:  20\n"
     ]
    }
   ],
   "source": [
    "keyboard = input('숫자를 입력해 주세요: ')\n",
    "print('입력값: ', keyboard, end = '  ')\n",
    "print(type(keyboard))\n",
    "\n",
    "# 'str' to 'int : 문자열을 숫자로\n",
    "keyboard = int(keyboard)\n",
    "print('int(입력값):', keyboard, end = '  ')\n",
    "print(type(keyboard))\n",
    "\n",
    "keyboard += 10\n",
    "print('입력값 + 10: ', keyboard)"
   ]
  },
  {
   "cell_type": "code",
   "execution_count": 32,
   "metadata": {},
   "outputs": [
    {
     "name": "stdout",
     "output_type": "stream",
     "text": [
      "<class 'float'>\n"
     ]
    }
   ],
   "source": [
    "radius = float(input('원의 반지름(실수)을 입력하세요: '))\n",
    "print(type(radius))"
   ]
  },
  {
   "cell_type": "markdown",
   "metadata": {},
   "source": [
    "> 사용자 입력값 계산하기"
   ]
  },
  {
   "cell_type": "code",
   "execution_count": 35,
   "metadata": {},
   "outputs": [
    {
     "name": "stdout",
     "output_type": "stream",
     "text": [
      "더하기: 11, 빼기: -5, 곱하기: 24, 나누기: 0.375 입니다. \n"
     ]
    }
   ],
   "source": [
    "# 숫자를 두 번 입력받아 계산하고 결과를 출력\n",
    "x = int(input())\n",
    "y = int(input())\n",
    "\n",
    "sum_ = x + y\n",
    "min_ = x - y\n",
    "mul_ = x * y\n",
    "div_ = round(x / y, 4)\n",
    "\n",
    "print('더하기: {}, 빼기: {}, 곱하기: {}, 나누기: {} 입니다. '.format(sum_,min_,mul_,div_))"
   ]
  },
  {
   "cell_type": "code",
   "execution_count": 38,
   "metadata": {},
   "outputs": [],
   "source": [
    "# 숫자를 두 번 입력받아 계산하고 결과(사칙연산)를 출력\n",
    "\n",
    "# 변수 선언\n",
    "x = None; y = None\n",
    "\n",
    "data1 = input('첫 번째 숫자 입력: ')\n",
    "data2 = input('두 번째 숫자 입력: ')\n",
    "x = float(data1)\n",
    "y = float(data2)"
   ]
  },
  {
   "cell_type": "markdown",
   "metadata": {},
   "source": [
    "> ValueError 예외"
   ]
  },
  {
   "cell_type": "code",
   "execution_count": null,
   "metadata": {},
   "outputs": [],
   "source": [
    "# print(dir(__biltins__))\n",
    "\n",
    "# 첫째, 숫자가 아닌 자료를 숫자로 변환하려고 할 때\n",
    "# data = int(input(\"정수를 입력하세요: \"))    # 'Hello' 문자열 입력\n",
    "# print(data)\n",
    "\n",
    "float('Python')"
   ]
  },
  {
   "cell_type": "code",
   "execution_count": 44,
   "metadata": {},
   "outputs": [
    {
     "data": {
      "text/plain": [
       "42.195"
      ]
     },
     "execution_count": 44,
     "metadata": {},
     "output_type": "execute_result"
    }
   ],
   "source": [
    "# 둘째, 소수점이 있는 숫자 형식의 문자열을 int() 형변환 하려고 할 때\n",
    "i = 42.195\n",
    "int(i)\n",
    "\n",
    "s = '42.195'\n",
    "# int(s)      # ValueError\n",
    "float(s)"
   ]
  },
  {
   "cell_type": "markdown",
   "metadata": {},
   "source": [
    "> 숫자를 문자열로 바꾸기 : str()"
   ]
  },
  {
   "cell_type": "code",
   "execution_count": 46,
   "metadata": {},
   "outputs": [
    {
     "name": "stdout",
     "output_type": "stream",
     "text": [
      "50\n",
      "2030\n"
     ]
    }
   ],
   "source": [
    "a, b = 20, 30\n",
    "print(a + b)\n",
    "\n",
    "a, b = str(a), str(b) # a -> '20', b -> '30'\n",
    "print(a + b)"
   ]
  },
  {
   "cell_type": "code",
   "execution_count": 58,
   "metadata": {},
   "outputs": [
    {
     "name": "stdout",
     "output_type": "stream",
     "text": [
      "오늘의 날짜: 2022.1.5\n"
     ]
    }
   ],
   "source": [
    "# '오늘의 날짜: 2022.1.5'\n",
    "from datetime import datetime\n",
    "current = datetime.now()\n",
    "y, m, d = current.year, current.month, current.day\n",
    "\n",
    "print('오늘의 날짜: {}.{}.{}'.format(y,m,d))"
   ]
  },
  {
   "cell_type": "code",
   "execution_count": 59,
   "metadata": {},
   "outputs": [
    {
     "name": "stdout",
     "output_type": "stream",
     "text": [
      "오늘의 날짜는 2022.01.05 입니다\n"
     ]
    }
   ],
   "source": [
    "from datetime import datetime\n",
    "current = datetime.today().strftime('%Y.%m.%d')\n",
    "print('오늘의 날짜는 {} 입니다'.format(current))\n"
   ]
  },
  {
   "cell_type": "code",
   "execution_count": 64,
   "metadata": {},
   "outputs": [
    {
     "name": "stdout",
     "output_type": "stream",
     "text": [
      "10.4775 cm\n"
     ]
    }
   ],
   "source": [
    "# 사용자로부터 인치(inch)를 입력받아 (cm) 리턴해주는 프로그램\n",
    "x = float(input())\n",
    "x *= 2.54\n",
    "\n",
    "print(round(x,4),'cm')"
   ]
  },
  {
   "cell_type": "code",
   "execution_count": 66,
   "metadata": {},
   "outputs": [
    {
     "name": "stdout",
     "output_type": "stream",
     "text": [
      "센치는 12.7cm 입니다\n"
     ]
    }
   ],
   "source": [
    "inch = float(input(\"인치를 입력해주세요: \"))\n",
    "\n",
    "print(f'센치는 {inch * 2.54}cm 입니다')"
   ]
  }
 ],
 "metadata": {
  "interpreter": {
   "hash": "054c0b5073ae8ed56926c5c67113945079b283bacf1a269ae7086b3d9eebd60c"
  },
  "kernelspec": {
   "display_name": "Python 3.10.1 64-bit",
   "language": "python",
   "name": "python3"
  },
  "language_info": {
   "codemirror_mode": {
    "name": "ipython",
    "version": 3
   },
   "file_extension": ".py",
   "mimetype": "text/x-python",
   "name": "python",
   "nbconvert_exporter": "python",
   "pygments_lexer": "ipython3",
   "version": "3.10.1"
  },
  "orig_nbformat": 4
 },
 "nbformat": 4,
 "nbformat_minor": 2
}
