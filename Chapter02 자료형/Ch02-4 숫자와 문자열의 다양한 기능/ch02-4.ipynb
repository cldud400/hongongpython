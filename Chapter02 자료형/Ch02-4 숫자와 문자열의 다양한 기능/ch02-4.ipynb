{
 "cells": [
  {
   "cell_type": "markdown",
   "metadata": {},
   "source": [
    "### 02-4 숫자와 문자열의 다양한 기능\n",
    "---\n",
    "#### 시작하기 전에\n",
    "***문자열 자료형의 기능*** 즉, 내장함수를 알아보기"
   ]
  },
  {
   "cell_type": "code",
   "execution_count": 6,
   "metadata": {},
   "outputs": [
    {
     "name": "stdout",
     "output_type": "stream",
     "text": [
      "LIFE IS SHORT\n",
      "11\n"
     ]
    }
   ],
   "source": [
    "# 'str'.멤버함수호출()\n",
    "\n",
    "print('Life is short'.upper())\n",
    "print('I am strong'.__len__())"
   ]
  },
  {
   "cell_type": "markdown",
   "metadata": {},
   "source": [
    "> 서식 지정자(format specifier)로 문자열 만들기"
   ]
  },
  {
   "cell_type": "code",
   "execution_count": 20,
   "metadata": {},
   "outputs": [
    {
     "name": "stdout",
     "output_type": "stream",
     "text": [
      "철수의 평균 점수는 85.300000입니다.\n",
      "철수의 평균 점수는 85입니다.\n",
      "My name is IU\n"
     ]
    }
   ],
   "source": [
    "# 철수의 평균 점수는 85.3점입니다.\n",
    "# 영희의 평균 점수는 70.5점입니다.\n",
    "# 길동의 평균 점수는 90.8점입니다.\n",
    "# 순이의 평균 점수는 63.2점입니다.\n",
    "\n",
    "# {이름}의 평균 점수는 {점수}점입니다.\n",
    "\n",
    "# 문자열 안에서 특정 부분을 원하는 값으로 바꿀 때 : 서식 지정자 또는 문자열 포매팅(format())을 사용한다.\n",
    "\n",
    "name = '철수'   # str\n",
    "score = 85.3    # float\n",
    "print('%s의 평균 점수는 %f입니다.' % (name,score)) # 실수\n",
    "print('%s의 평균 점수는 %d입니다.' % (name,score)) # 정수\n",
    "\n",
    "name = 'IU'\n",
    "print('My name is %s' % name)"
   ]
  },
  {
   "cell_type": "code",
   "execution_count": 43,
   "metadata": {},
   "outputs": [
    {
     "name": "stdout",
     "output_type": "stream",
     "text": [
      "철수의 평균 점수는 85입니다.\n",
      "영희의 평균 점수는 98입니다.\n",
      "길산의 평균 점수는 75입니다.\n",
      "희경의 평균 점수는 83입니다.\n",
      "수진의 평균 점수는 91입니다.\n",
      "영수의 평균 점수는 88입니다.\n"
     ]
    }
   ],
   "source": [
    "# 학급의 학생들의 점수 출력하기\n",
    "import time\n",
    "\n",
    "names = ['철수', '영희', '길산', '희경', '수진', '영수']\n",
    "scores = [85, 98, 75, 83, 91, 88]\n",
    "\n",
    "for i in range(len(names)):\n",
    "    # print('{}의 평균 점수는 {}입니다.'.format(names[i],scores[i]))\n",
    "    print('%s의 평균 점수는 %d입니다.' % (names[i],scores[i]))\n",
    "    # time.sleep(1)"
   ]
  },
  {
   "cell_type": "markdown",
   "metadata": {},
   "source": [
    "> 문자열 format() 함수"
   ]
  },
  {
   "cell_type": "code",
   "execution_count": 48,
   "metadata": {},
   "outputs": [
    {
     "name": "stdout",
     "output_type": "stream",
     "text": [
      "오늘은 2022년 1월 5일 입니다.\n"
     ]
    }
   ],
   "source": [
    "# 문자열 안에서 정수 변수를 사용할 때\n",
    "year = 2022\n",
    "month = 1\n",
    "day = 5\n",
    "\n",
    "today = '오늘은 2022년 1월 5일 입니다.'\n",
    "today = '오늘은 year년 month월 day일 입니다.'\n",
    "today = '오늘은 {}년 {}월 {}일 입니다.'.format(year, month, day)\n",
    "print(today)\n",
    "today = '오늘은' + str(year) + '년' + str(month) + '월' + str(day) + '일입니다.'"
   ]
  },
  {
   "cell_type": "code",
   "execution_count": 50,
   "metadata": {},
   "outputs": [
    {
     "name": "stdout",
     "output_type": "stream",
     "text": [
      "띵동~ 1번 고객님 접수창구로 와주세요.\n",
      "띵동~ 2번 고객님 접수창구로 와주세요.\n"
     ]
    }
   ],
   "source": [
    "def call(number):\n",
    "    print('띵동~ {}번 고객님 접수창구로 와주세요.'.format(number))\n",
    "\n",
    "for i in range(1,3):\n",
    "    call(i)"
   ]
  },
  {
   "cell_type": "code",
   "execution_count": 57,
   "metadata": {},
   "outputs": [
    {
     "name": "stdout",
     "output_type": "stream",
     "text": [
      "5000만원\n",
      "100M, 400M, 800M 달리기\n",
      "Python Python Script Script\n",
      "Hello, Python 3.10.1\n",
      "Hello, Java 11\n"
     ]
    }
   ],
   "source": [
    "# format() 함수의 다양한 형태\n",
    "data1 = '{}만원'.format(5000)\n",
    "data2 = '{}M, {}M, {}M 달리기'.format(100, 400, 800)\n",
    "print(data1)\n",
    "print(data2)\n",
    "\n",
    "# index 사용\n",
    "data3 = 'Programming Language {} {} {}'.format('Python', 'Script', '3.10.1')\n",
    "\n",
    "data4 = '{0} {0} {1} {1}'.format('Python', 'Script')\n",
    "print(data4)\n",
    "\n",
    "# 인덱스 대신 변수명 지정하기\n",
    "data5 = 'Hello, {lan} {ver}'.format(lan = 'Python', ver = '3.10.1')\n",
    "print(data5)\n",
    "\n",
    "# 변수명 그대로 사용하기\n",
    "lan = 'Java'\n",
    "ver = '11'\n",
    "data6 = f'Hello, {lan} {ver}'\n",
    "print(data6)"
   ]
  },
  {
   "cell_type": "markdown",
   "metadata": {},
   "source": [
    "> IndexError 예외 : {} index 갯수가 함수 매개변수 갯수보다 많은 경우"
   ]
  },
  {
   "cell_type": "code",
   "execution_count": null,
   "metadata": {},
   "outputs": [],
   "source": [
    "print('{} {} {}'.format(1,2))   # IndexError: Replacement index 2 out of range for positional args tuple"
   ]
  },
  {
   "cell_type": "markdown",
   "metadata": {},
   "source": [
    "> format() 함수의 다양한 기능 : 숫자 관련"
   ]
  },
  {
   "cell_type": "code",
   "execution_count": 66,
   "metadata": {},
   "outputs": [
    {
     "name": "stdout",
     "output_type": "stream",
     "text": [
      "  [지출내역]\n",
      " 1200 (만원)\n",
      "  200 (만원)\n",
      "   15 (만원)\n",
      " 3500 (만원)\n",
      " 1200 (만원)\n"
     ]
    }
   ],
   "source": [
    "# output_a = '{:d}'.format(52)\n",
    "# print(output_a)\n",
    "\n",
    "# output_a = '{:s}'.format('52')\n",
    "# print(output_a)\n",
    "\n",
    "# output_a = '{:5d}'.format(52)\n",
    "# print(output_a)\n",
    "\n",
    "# output_a = '{:05d}'.format(52)\n",
    "# print(output_a)\n",
    "\n",
    "print('  [지출내역]')\n",
    "cost1 = '{:5d} (만원)'.format(1200)\n",
    "cost2 = '{:5d} (만원)'.format(200)\n",
    "cost3 = '{:5d} (만원)'.format(15)\n",
    "cost4 = '{:5d} (만원)'.format(3500)\n",
    "cost5 = '{:5d} (만원)'.format(1200)\n",
    "print(cost1)\n",
    "print(cost2)\n",
    "print(cost3)\n",
    "print(cost4)\n",
    "print(cost5)"
   ]
  },
  {
   "cell_type": "code",
   "execution_count": 68,
   "metadata": {},
   "outputs": [
    {
     "name": "stdout",
     "output_type": "stream",
     "text": [
      "+55\n",
      "-55\n"
     ]
    }
   ],
   "source": [
    "# 기호와 함께 출력하기\n",
    "output_a = '{:+d}'.format(55)\n",
    "print(output_a)\n",
    "\n",
    "output_b = '{:+d}'.format(-55)\n",
    "print(output_b)"
   ]
  },
  {
   "cell_type": "code",
   "execution_count": 69,
   "metadata": {},
   "outputs": [
    {
     "name": "stdout",
     "output_type": "stream",
     "text": [
      "  +52\n",
      "+  52\n"
     ]
    }
   ],
   "source": [
    "print('{:+5d}'.format(52))\n",
    "print('{:=+5d}'.format(52))"
   ]
  },
  {
   "cell_type": "code",
   "execution_count": 75,
   "metadata": {},
   "outputs": [
    {
     "name": "stdout",
     "output_type": "stream",
     "text": [
      "3.141592\n",
      "      +3.141592\n",
      "          3.142\n",
      "+0000000003.142\n"
     ]
    }
   ],
   "source": [
    "# 부동 소수점 출력의 형태\n",
    "print('{:f}'.format(3.141592))\n",
    "print('{:+15f}'.format(3.141592))\n",
    "\n",
    "# 소수점 아래 자릿수 지정하기\n",
    "print('{:15.3f}'.format(3.141592))\n",
    "print('{:+015.3f}'.format(3.141592))"
   ]
  },
  {
   "cell_type": "markdown",
   "metadata": {},
   "source": [
    "> 대소문자 바꾸기 : upper()와 lower()"
   ]
  },
  {
   "cell_type": "code",
   "execution_count": 78,
   "metadata": {},
   "outputs": [
    {
     "data": {
      "text/plain": [
       "'Hello python programming...!'"
      ]
     },
     "execution_count": 78,
     "metadata": {},
     "output_type": "execute_result"
    }
   ],
   "source": [
    "sentence = 'Hello Python Programming...!'\n",
    "sentence.upper()\n",
    "sentence.lower()\n",
    "sentence.capitalize()"
   ]
  },
  {
   "cell_type": "markdown",
   "metadata": {},
   "source": [
    "> 문자열 공백 제거 : srtip(), lstrip(), rstrip()"
   ]
  },
  {
   "cell_type": "code",
   "execution_count": 82,
   "metadata": {},
   "outputs": [
    {
     "name": "stdout",
     "output_type": "stream",
     "text": [
      "Python\n",
      "32\n",
      "6\n"
     ]
    }
   ],
   "source": [
    "input_data = '                          Python'\n",
    "print(input_data.strip())\n",
    "print(len(input_data))\n",
    "\n",
    "sentence = input_data.strip()\n",
    "print(len(sentence))"
   ]
  },
  {
   "cell_type": "markdown",
   "metadata": {},
   "source": [
    "> 특장 문자 제거하기"
   ]
  },
  {
   "cell_type": "code",
   "execution_count": 98,
   "metadata": {},
   "outputs": [
    {
     "name": "stdout",
     "output_type": "stream",
     "text": [
      "input_data : , Python. / *\n",
      "Python\n",
      "PYTHON\n"
     ]
    }
   ],
   "source": [
    "input_data = ', Python. / *'\n",
    "print(f'input_data : {input_data}')\n",
    "\n",
    "strip_data = input_data.strip(',./ *')\n",
    "print(strip_data)\n",
    "\n",
    "# 구두점을 간단하게 삭제하는 방법\n",
    "import string\n",
    "# print(string.punctuation)\n",
    "input_data = '!\"#$%&\\'()*+,-python./:;<=>?@[\\]^_`{|}~'\n",
    "strip_data = input_data.strip(string.punctuation).upper()   # 메서드 체이닝(method chining)\n",
    "print(strip_data)\n"
   ]
  },
  {
   "cell_type": "markdown",
   "metadata": {},
   "source": [
    "> 문자열의 구성 파악하기 : is___()"
   ]
  },
  {
   "cell_type": "code",
   "execution_count": 111,
   "metadata": {},
   "outputs": [
    {
     "name": "stdout",
     "output_type": "stream",
     "text": [
      "문자를 입력하세요\n"
     ]
    }
   ],
   "source": [
    "# 불(bool) 자료형 리턴\n",
    "'abc123'.isalnum()\n",
    "'abc'.isalpha()\n",
    "'123'.isnumeric()\n",
    "'12345'.isdigit()\n",
    "'ABCE'.isupper()\n",
    "\n",
    "name = '123'\n",
    "if name.isalpha():\n",
    "    print('다음 단계로 이동')\n",
    "else:\n",
    "    print('문자를 입력하세요')"
   ]
  },
  {
   "cell_type": "markdown",
   "metadata": {},
   "source": [
    "> 문자열 위치 찾기 : find(), rfind()"
   ]
  },
  {
   "cell_type": "code",
   "execution_count": 118,
   "metadata": {},
   "outputs": [
    {
     "data": {
      "text/plain": [
       "12"
      ]
     },
     "execution_count": 118,
     "metadata": {},
     "output_type": "execute_result"
    }
   ],
   "source": [
    "# find() : 왼쪽부터 찾아서 처음 등장하는 위치를 리턴해준다\n",
    "# rfind() : 오른쪽부터 찾아서 처음 등장하는 위치를 리턴해준다\n",
    "\n",
    "s = 'apple pineapple'\n",
    "\n",
    "s.find('pl')    # 2\n",
    "s.rfind('pl')   # 12"
   ]
  },
  {
   "cell_type": "markdown",
   "metadata": {},
   "source": [
    "> 문자열과 in 연선자"
   ]
  },
  {
   "cell_type": "code",
   "execution_count": 124,
   "metadata": {},
   "outputs": [
    {
     "name": "stdout",
     "output_type": "stream",
     "text": [
      "True\n",
      "True\n",
      "2\n"
     ]
    }
   ],
   "source": [
    "# 문자열 내부에 어떤(지정한) 문자열이 있는지 확인하기\n",
    "print('pine' in s)\n",
    "\n",
    "sentence = '''\n",
    "Search the world's information, including webpages, images, videos and more.\n",
    "Google has many special features to help you find exactly what you're looking for.\n",
    "'''\n",
    "print('Google' in sentence)\n",
    "\n",
    "# 문자열 갯수 세기 : count() 특정 문자열이 몇 번 나오는지 리턴\n",
    "print(sentence.count('you'))"
   ]
  },
  {
   "cell_type": "markdown",
   "metadata": {},
   "source": [
    "> 문자열 자르기 : split()"
   ]
  },
  {
   "cell_type": "code",
   "execution_count": 127,
   "metadata": {},
   "outputs": [
    {
     "data": {
      "text/plain": [
       "[10, 20, 30, 40, 50, 60, 70, 80, 90, 100]"
      ]
     },
     "execution_count": 127,
     "metadata": {},
     "output_type": "execute_result"
    }
   ],
   "source": [
    "# 문자열을 특정 문자를 기준으로 나눠준다.\n",
    "li = '10 20 30 40 50 60 70 80 90 100'\n",
    "li = list(map(int,li.split()))\n",
    "li"
   ]
  },
  {
   "cell_type": "code",
   "execution_count": null,
   "metadata": {},
   "outputs": [],
   "source": []
  }
 ],
 "metadata": {
  "interpreter": {
   "hash": "054c0b5073ae8ed56926c5c67113945079b283bacf1a269ae7086b3d9eebd60c"
  },
  "kernelspec": {
   "display_name": "Python 3.10.1 64-bit",
   "language": "python",
   "name": "python3"
  },
  "language_info": {
   "codemirror_mode": {
    "name": "ipython",
    "version": 3
   },
   "file_extension": ".py",
   "mimetype": "text/x-python",
   "name": "python",
   "nbconvert_exporter": "python",
   "pygments_lexer": "ipython3",
   "version": "3.10.1"
  },
  "orig_nbformat": 4
 },
 "nbformat": 4,
 "nbformat_minor": 2
}
