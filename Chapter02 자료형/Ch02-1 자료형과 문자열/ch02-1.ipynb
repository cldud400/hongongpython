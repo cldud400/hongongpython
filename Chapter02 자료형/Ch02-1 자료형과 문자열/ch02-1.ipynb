{
 "cells": [
  {
   "cell_type": "markdown",
   "metadata": {},
   "source": [
    "### 02-1 자료형과 문자열\n",
    "---"
   ]
  },
  {
   "cell_type": "markdown",
   "metadata": {},
   "source": [
    "#### 시작하기전에   \n",
    "프로그램은 기본적으로 '자료를 처리'하는 역할을 한다.   \n",
    "* 카메라로 사진을 찍으면 사진이 **자료**이고, 이를 카메라에 저장하는 것이 **처리**이다.\n",
    "* 카톡으로 메시지를 보냈다면 메시지가 **자료**이고, 이를 친구에게 전송하는 것이 **처리**이다.\n",
    "* 게임에서 경험치를 얻었다면 경험치가 **자료**이고, 경험치를 증가시키는 것이 **처리**이다.\n",
    "\n",
    "데이터를 처리한다는 것은 결국...   \n",
    "\" Cretente(생성/쓰기), Read(읽기), Update(갱신), Delete(삭제) \" 한다는 것이다!!!"
   ]
  },
  {
   "cell_type": "markdown",
   "metadata": {},
   "source": [
    "> 자료형(data type) \n",
    "* 문자열(string): 메일 제목, 메시지 내용 등 -> \"안녕하세요\", \"Hello World\"\n",
    "* 숫자(number): 물건의 가격, 학생의 성적 등 -> 52, 273, 103.32\n",
    "* 불(boolean): 로그인 상태 -> True, False   \n",
    "자료형은 자료의 형태이고, 자료형에 따라 컴퓨터가 해석하는 방법이 달라진다. "
   ]
  },
  {
   "cell_type": "markdown",
   "metadata": {},
   "source": [
    "> 자료형 확인하기"
   ]
  },
  {
   "cell_type": "code",
   "execution_count": null,
   "metadata": {},
   "outputs": [],
   "source": [
    "# 파이썬 기본 자료형\n",
    "print(type('나는 문자열'), end = '  ')\n",
    "print(type(273), end = '  ')\n",
    "print(type(3.14), end = '  ')\n",
    "print(type(True))\n",
    "\n",
    "# Collection 자료\n",
    "print(type([1,'2',True]), end = '  ')\n",
    "print(type((1,2,3)), end = '  ')\n",
    "print(type({1 : 'a', 2 : 'b', 3 : 'c'}))\n",
    "\n",
    "a = [1,2,3,4,5,5,4,3,2,1]\n",
    "a = set(a)\n",
    "print(type(a))"
   ]
  },
  {
   "cell_type": "code",
   "execution_count": null,
   "metadata": {},
   "outputs": [],
   "source": [
    "# dir() : 어떤 객체가 어떤 메소드를 가지고 있는지 알 수 있다.\n",
    "dir(10)\n",
    "dir('문자열')"
   ]
  },
  {
   "cell_type": "code",
   "execution_count": null,
   "metadata": {},
   "outputs": [],
   "source": [
    "# id() : 객체를 식별하기 위해서 부여하는 일련번호\n",
    "a = 10\n",
    "# 10 이라는 값이 a에 담기는 게 아니라 10이라는 객체(class의 인스턴스)가 생성되고\n",
    "# 참조변수 a 라는 이름으로 10 객체를 가리킨다.\n",
    "print(id(a))\n",
    "\n",
    "n = 4000\n",
    "print('n:', id(n))\n",
    "a = n\n",
    "print('a:', id(a))\n",
    "b = 4000\n",
    "print('b:', id(b))\n",
    "\n",
    "# print(hex(id(4000)))\n",
    "# print(hex(id(n)))\n",
    "# print(hex(id(a)))\n",
    "\n",
    "print(n == a)\n",
    "print(a == b)\n",
    "print(a is b)"
   ]
  },
  {
   "cell_type": "code",
   "execution_count": null,
   "metadata": {},
   "outputs": [],
   "source": [
    "# isinstance() : 주어진 인스턴스가 특정 클래서(데이터타입)인지 검사\n",
    "print(isinstance('이것은 문자열', str))\n",
    "print(isinstance(2022, int))\n"
   ]
  },
  {
   "cell_type": "code",
   "execution_count": null,
   "metadata": {},
   "outputs": [],
   "source": [
    "# help() : 함수(function) 정보를 보고 싶을 때 사용\n",
    "help(print)\n",
    "print(print.__doc__)"
   ]
  },
  {
   "cell_type": "markdown",
   "metadata": {},
   "source": [
    "> 문자열 만들기\n",
    "* ' ', \" \"\n",
    "* ''' ''', \"\"\" \"\"\""
   ]
  },
  {
   "cell_type": "code",
   "execution_count": 48,
   "metadata": {},
   "outputs": [
    {
     "name": "stdout",
     "output_type": "stream",
     "text": [
      "65\n",
      "A\n",
      "a b c d e f "
     ]
    }
   ],
   "source": [
    "# 문자열('str') : 문자(char)의 배열\n",
    "\n",
    "# 문자셋(character set)\n",
    "print(ord('A'))     # 인코딩\n",
    "print(chr(65))      # 디코딩\n",
    "\n",
    "for i in 'abcdef':\n",
    "    print(i, end = ' ')"
   ]
  },
  {
   "cell_type": "code",
   "execution_count": null,
   "metadata": {},
   "outputs": [],
   "source": [
    "# why don't you?\n",
    "print(\"why don't you?\")\n",
    "print('why don\\'t you?')\n",
    "# \"Yes\" they said\n",
    "print('\"Yes\" they said')\n",
    "print(\"\\\"Yes\\\" they said\")"
   ]
  },
  {
   "cell_type": "markdown",
   "metadata": {},
   "source": [
    "> 이스케이프(Escape Character) : \\ + 문자"
   ]
  },
  {
   "cell_type": "code",
   "execution_count": null,
   "metadata": {},
   "outputs": [],
   "source": [
    "# 특수 문자를 표현하거나 특수한 기능을 하는 문자\n",
    "print('First line.\\nSecond line.')\n",
    "# 경로명\n",
    "print(\"D:\\MyFolder\\name\")\n",
    "print(\"D:\\MyFolder\\\\name\")\n",
    "print(r\"D:\\MyFolder\\name\")\n",
    "print('이름\\t나이\\t주소')"
   ]
  },
  {
   "cell_type": "code",
   "execution_count": null,
   "metadata": {},
   "outputs": [],
   "source": [
    "s1 = '1. Life is too short\\n2. You need python'\n",
    "print(s1)\n",
    "# 줄바꿈 문자열\n",
    "s2 = '''\n",
    "1. Life is to short\n",
    "2. You need python\n",
    "'''\n",
    "print(s2)\n",
    "print('''\n",
    "** MENU **\n",
    "1. coffee\n",
    "2. milk\n",
    "3. cake\n",
    "''')\n",
    "# 줄바꿈 없는 문자열\n",
    "menu = '''\n",
    "** MENU **\n",
    "1. coffee \\\n",
    "milk\n",
    "2. cake\n",
    "'''\n",
    "print(menu)"
   ]
  },
  {
   "cell_type": "markdown",
   "metadata": {},
   "source": [
    "> 문자열 연산자 : +, *"
   ]
  },
  {
   "cell_type": "code",
   "execution_count": null,
   "metadata": {},
   "outputs": [],
   "source": [
    "# '문자열' + '문자열'\n",
    "print('안녕' + '하세요')\n",
    "head = \"python\"\n",
    "version = ' 3.10.1'\n",
    "print(head + version)\n",
    "\n",
    "# '문자열' * 숫자\n",
    "print('안녕하세요\\n' * 5)\n",
    "print('=' * 50)\n",
    "print('Program')\n",
    "print('=' * 50)"
   ]
  },
  {
   "cell_type": "markdown",
   "metadata": {},
   "source": [
    "> 문자 선택 연산자(인덱싱) : [index]"
   ]
  },
  {
   "cell_type": "code",
   "execution_count": 86,
   "metadata": {},
   "outputs": [
    {
     "name": "stdout",
     "output_type": "stream",
     "text": [
      "012345\n",
      "Python\n",
      "P y n n h\n"
     ]
    }
   ],
   "source": [
    "# [index] : 문자열과 같은 자료형에서 자료가 메모리에 저장된 순서대로 매겨진 값의 위치 번호\n",
    "array = 'P' 'y' 't' 'h' 'o' 'n'\n",
    "print('012345')\n",
    "print(array)\n",
    "print(array[0], end = ' ')\n",
    "print(array[1], end = ' ')\n",
    "print(array[5], end = ' ')\n",
    "print(array[-1], end = ' ')\n",
    "print(array[-3])"
   ]
  },
  {
   "cell_type": "code",
   "execution_count": 107,
   "metadata": {},
   "outputs": [
    {
     "name": "stdout",
     "output_type": "stream",
     "text": [
      "<class 'str'>\n",
      "34\n",
      "0123456789012345678901234567890123\n",
      "34\n"
     ]
    }
   ],
   "source": [
    "array = 'Life is too short, You need Python'\n",
    "index = '0123456789012345678901234567890123'\n",
    "\n",
    "print(type(array))\n",
    "print(len(array))\n",
    "print(index)\n",
    "print(len(index))"
   ]
  },
  {
   "cell_type": "code",
   "execution_count": 108,
   "metadata": {},
   "outputs": [
    {
     "name": "stdout",
     "output_type": "stream",
     "text": [
      "P\n",
      "P\n",
      "n\n"
     ]
    }
   ],
   "source": [
    "print(array[28])\n",
    "print(array[-6])\n",
    "print(array[len(array) -1])"
   ]
  },
  {
   "cell_type": "markdown",
   "metadata": {},
   "source": [
    "> 문자열 범위 선택 연산자(슬라이싱) : [ 시작 : 끝 ]"
   ]
  },
  {
   "cell_type": "code",
   "execution_count": 118,
   "metadata": {},
   "outputs": [
    {
     "name": "stdout",
     "output_type": "stream",
     "text": [
      "0123456789012345678901234567890123\n",
      "Life is too short, You need Python\n",
      "Life\n",
      "Life\n",
      "short\n",
      "Python\n"
     ]
    }
   ],
   "source": [
    "print(index)\n",
    "print(array)\n",
    "\n",
    "# 특정 단어 ('Life')를 추출하려면?\n",
    "word = array[0] + array[1] + array[2] + array[3]\n",
    "print(word)\n",
    "print(array[:4])    # 범위표시 : [시작 <= : < 끝]\n",
    "print(array[12:17])\n",
    "print(array[28:])"
   ]
  }
 ],
 "metadata": {
  "interpreter": {
   "hash": "054c0b5073ae8ed56926c5c67113945079b283bacf1a269ae7086b3d9eebd60c"
  },
  "kernelspec": {
   "display_name": "Python 3.10.1 64-bit",
   "language": "python",
   "name": "python3"
  },
  "language_info": {
   "codemirror_mode": {
    "name": "ipython",
    "version": 3
   },
   "file_extension": ".py",
   "mimetype": "text/x-python",
   "name": "python",
   "nbconvert_exporter": "python",
   "pygments_lexer": "ipython3",
   "version": "3.10.1"
  },
  "orig_nbformat": 4
 },
 "nbformat": 4,
 "nbformat_minor": 2
}
