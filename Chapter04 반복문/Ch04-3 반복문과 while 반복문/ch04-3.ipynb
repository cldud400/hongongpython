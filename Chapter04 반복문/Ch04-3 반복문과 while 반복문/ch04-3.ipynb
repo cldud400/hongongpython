{
 "cells": [
  {
   "cell_type": "markdown",
   "metadata": {},
   "source": [
    "### 04-2 range와 while 반복문\n",
    "---\n",
    "#### 시작하기 전에\n",
    "***range***는 반복문과 함께 많이 사용되는 자료형, 특정한 횟수 만큼 반복해서 실행하고자 할 때 사용\n"
   ]
  },
  {
   "cell_type": "markdown",
   "metadata": {},
   "source": [
    "> 범위"
   ]
  },
  {
   "cell_type": "code",
   "execution_count": 7,
   "metadata": {},
   "outputs": [
    {
     "name": "stdout",
     "output_type": "stream",
     "text": [
      "r : range(0, 10) 타입 <class 'range'>\n",
      "0 2 4 6 8 \n",
      "10 9 8 7 6 5 4 3 2 1 "
     ]
    }
   ],
   "source": [
    "# 범위(range) 자료형의 선언(생성)\n",
    "r = range(10)\n",
    "print('r :', r, '타입', type(r))\n",
    "\n",
    "for i in range(0, 10, 2):\n",
    "    print(i, end = ' ')\n",
    "print()\n",
    "\n",
    "for i in range(10, 0, -1):\n",
    "    print(i, end = ' ')"
   ]
  },
  {
   "cell_type": "markdown",
   "metadata": {},
   "source": [
    "> 리스트(list)와 함께 사용하기"
   ]
  },
  {
   "cell_type": "code",
   "execution_count": 29,
   "metadata": {},
   "outputs": [
    {
     "name": "stdout",
     "output_type": "stream",
     "text": [
      "[3, 6, 9, 12, 15, 18, 21, 24, 27, 30, 33, 36, 39, 42, 45, 48, 51, 54, 57, 60, 63, 66, 69, 72, 75, 78, 81, 84, 87, 90, 93, 96, 99]\n"
     ]
    }
   ],
   "source": [
    "li = list('Python')\n",
    "i = list(range(1,10,2))\n",
    "\n",
    "# 100 보다 작은 3의 배수 리스트를 생성\n",
    "li = [i*3 for i in range(1, 34)]\n",
    "# li = list(range(3,100,3))\n",
    "print(li)"
   ]
  },
  {
   "cell_type": "code",
   "execution_count": 45,
   "metadata": {},
   "outputs": [
    {
     "name": "stdout",
     "output_type": "stream",
     "text": [
      "3 2 1 \n",
      "fire!!!  🚀🚀🚀🚀🚀🚀🚀🚀🚀🚀🚀🚀🚀🚀🚀🚀🚀🚀🚀🚀"
     ]
    }
   ],
   "source": [
    "# 카운트 다운\n",
    "import time\n",
    "for i in range(3,0,-1):\n",
    "    print(i, end=' ')\n",
    "    time.sleep(1)\n",
    "print()\n",
    "print('fire!!! ', end = ' ')\n",
    "for i in range(20):\n",
    "    print('🚀', end = '')\n",
    "    time.sleep(0.05)"
   ]
  },
  {
   "cell_type": "code",
   "execution_count": 47,
   "metadata": {},
   "outputs": [
    {
     "name": "stdout",
     "output_type": "stream",
     "text": [
      "1 교시 국어\n",
      "2 교시 영어\n",
      "3 교시 수학\n",
      "4 교시 컴퓨터\n",
      "5 교시 물리\n"
     ]
    }
   ],
   "source": [
    "subjects = ['국어', '영어', '수학', '컴퓨터', '물리']\n",
    "l = len(subjects)\n",
    "for i in range(l):\n",
    "    print(i + 1, '교시', subjects[i])"
   ]
  },
  {
   "cell_type": "markdown",
   "metadata": {},
   "source": [
    "> while 반복문"
   ]
  },
  {
   "cell_type": "code",
   "execution_count": 50,
   "metadata": {},
   "outputs": [
    {
     "name": "stdout",
     "output_type": "stream",
     "text": [
      "0 1 2 3 4 5 6 7 8 9 10 11 12 13 14 \n",
      "for 반복문 종료\n",
      "0 1 2 3 4 5 6 7 8 9 10 11 12 13 14 \n",
      "while 반복문 종료\n"
     ]
    }
   ],
   "source": [
    "# 1. for looping : 특정 횟수만큼 반복하는 경우(반복 횟수가 정해져 있을 때)\n",
    "# 2. while looping : 특정 조건에 대하여 반복하는 경우(조건식이 만족할 때까지 반복)\n",
    "# while bool표현식\n",
    "\n",
    "# 횟수 반복\n",
    "for i in range(15):\n",
    "    print(i, end = ' ')\n",
    "    time.sleep(0.3)\n",
    "print()    \n",
    "print('for 반복문 종료')\n",
    "# 조건 반복\n",
    "n = 0\n",
    "while True:\n",
    "    print(n, end=' ')\n",
    "    n += 1\n",
    "    time.sleep(0.3)\n",
    "    if n == 15:\n",
    "        break\n",
    "print()    \n",
    "print('while 반복문 종료')\n"
   ]
  },
  {
   "cell_type": "code",
   "execution_count": 56,
   "metadata": {},
   "outputs": [
    {
     "name": "stdout",
     "output_type": "stream",
     "text": [
      "word :  Python\n"
     ]
    }
   ],
   "source": [
    "import string\n",
    "string.punctuation\n",
    "signs = '!\"#$P%&\\'(y)*+,t-./h:;<o=>?n@[\\\\]^_`{|}~'\n",
    "word = ''\n",
    "for ch in signs:\n",
    "    if ch not in string.punctuation:\n",
    "        word += ch\n",
    "print('word : ',word)"
   ]
  },
  {
   "cell_type": "markdown",
   "metadata": {},
   "source": [
    "> while 반복문 : 시간을 기반을 반복하기"
   ]
  },
  {
   "cell_type": "code",
   "execution_count": 89,
   "metadata": {},
   "outputs": [
    {
     "name": "stdout",
     "output_type": "stream",
     "text": [
      "UTC :  1641545884.6035237\n",
      "1.000805377960205초 동안 10619905회 반복했습니다\n"
     ]
    }
   ],
   "source": [
    "# 세계 표준시(UTC) : 1970.01.01.00:00:00 기준 현재까지의 누적 초\n",
    "from time import time as t\n",
    "print('UTC : ', t())\n",
    "\n",
    "count = 0\n",
    "start_time = t()\n",
    "target_time = start_time + 1\n",
    "\n",
    "while t() < target_time:\n",
    "    count += 1\n",
    "\n",
    "end_time = t()\n",
    "\n",
    "print('{}초 동안 {}회 반복했습니다'.format(end_time - start_time, count))"
   ]
  },
  {
   "cell_type": "code",
   "execution_count": null,
   "metadata": {},
   "outputs": [],
   "source": []
  }
 ],
 "metadata": {
  "interpreter": {
   "hash": "054c0b5073ae8ed56926c5c67113945079b283bacf1a269ae7086b3d9eebd60c"
  },
  "kernelspec": {
   "display_name": "Python 3.10.1 64-bit",
   "language": "python",
   "name": "python3"
  },
  "language_info": {
   "codemirror_mode": {
    "name": "ipython",
    "version": 3
   },
   "file_extension": ".py",
   "mimetype": "text/x-python",
   "name": "python",
   "nbconvert_exporter": "python",
   "pygments_lexer": "ipython3",
   "version": "3.10.1"
  },
  "orig_nbformat": 4
 },
 "nbformat": 4,
 "nbformat_minor": 2
}
