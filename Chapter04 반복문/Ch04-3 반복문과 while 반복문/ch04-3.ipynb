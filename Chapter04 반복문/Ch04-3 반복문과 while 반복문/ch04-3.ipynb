{
 "cells": [
  {
   "cell_type": "markdown",
   "metadata": {},
   "source": [
    "### 04-2 range와 while 반복문\n",
    "---\n",
    "#### 시작하기 전에\n",
    "***range***는 반복문과 함께 많이 사용되는 자료형, 특정한 횟수 만큼 반복해서 실행하고자 할 때 사용\n"
   ]
  },
  {
   "cell_type": "markdown",
   "metadata": {},
   "source": [
    "> 범위"
   ]
  },
  {
   "cell_type": "code",
   "execution_count": 1,
   "metadata": {},
   "outputs": [
    {
     "name": "stdout",
     "output_type": "stream",
     "text": [
      "r : range(0, 10) 타입 <class 'range'>\n"
     ]
    }
   ],
   "source": [
    "# 범위(range) 자료형의 선언(생성)\n",
    "r = range(10)\n",
    "print('r :', r, '타입', type(r))"
   ]
  }
 ],
 "metadata": {
  "interpreter": {
   "hash": "054c0b5073ae8ed56926c5c67113945079b283bacf1a269ae7086b3d9eebd60c"
  },
  "kernelspec": {
   "display_name": "Python 3.10.1 64-bit",
   "language": "python",
   "name": "python3"
  },
  "language_info": {
   "codemirror_mode": {
    "name": "ipython",
    "version": 3
   },
   "file_extension": ".py",
   "mimetype": "text/x-python",
   "name": "python",
   "nbconvert_exporter": "python",
   "pygments_lexer": "ipython3",
   "version": "3.10.1"
  },
  "orig_nbformat": 4
 },
 "nbformat": 4,
 "nbformat_minor": 2
}
