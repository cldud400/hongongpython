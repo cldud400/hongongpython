{
 "cells": [
  {
   "cell_type": "markdown",
   "metadata": {},
   "source": [
    "### 04-1 리스트와 반복문\n",
    "---\n",
    "#### 시작하기 전에\n",
    "**리스트**란 '목록'이며 여러가지 자료를 저장할 수 있는 자료이다. 숫자, 문자열 등의 자료를 모아서 사용하는 자료"
   ]
  },
  {
   "cell_type": "code",
   "execution_count": 3,
   "metadata": {},
   "outputs": [],
   "source": [
    "# 리스트이름 = [요소1, 요소2, 요소3, .....]\n",
    "li = [273, 32, 0, '문자열', True, None]\n",
    "li[-1]"
   ]
  },
  {
   "cell_type": "markdown",
   "metadata": {},
   "source": [
    "> 리스트 선언하고 요소(element)에 접근하기 : 리스트 인덱싱(indexing)과 슬라이싱(slicing)"
   ]
  },
  {
   "cell_type": "code",
   "execution_count": 6,
   "metadata": {},
   "outputs": [
    {
     "data": {
      "text/plain": [
       "'b'"
      ]
     },
     "execution_count": 6,
     "metadata": {},
     "output_type": "execute_result"
    }
   ],
   "source": [
    "il = [1, 2, 3, 4, 5]\n",
    "sl = ['안', '녕', '하', '세', '요']\n",
    "tl = [273, 32, 103, '문자열', [True, False,['a', 'b', 'c']], 'Hello']\n",
    "\n",
    "tl[4][2][1]\n",
    "\n",
    "# 대한민국 = [서울, 인천, 대구, 부산]\n",
    "# 대한민국 = [[강남구, 도봉구, 종로구], 인천, 대구, 부산]\n",
    "# 대한민국 = [[[삼성동, 역삼동, 신사동]], 도봉구, 종로구], 인천, 대구, 부산]"
   ]
  },
  {
   "cell_type": "code",
   "execution_count": 14,
   "metadata": {},
   "outputs": [
    {
     "data": {
      "text/plain": [
       "['변경', 32, 0, '문자열', True, False]"
      ]
     },
     "execution_count": 14,
     "metadata": {},
     "output_type": "execute_result"
    }
   ],
   "source": [
    "str_data = 'Life is too short, You need Python'\n",
    "str_data[-6]        # P\n",
    "str_data[:4]        # Life\n",
    "\n",
    "li = [273, 32, 0, '문자열', True, False]\n",
    "li[:3]\n",
    "\n",
    "# 리스트의 특정 요소 변경하기\n",
    "li[0] = '변경'\n",
    "li\n",
    "\n"
   ]
  },
  {
   "cell_type": "markdown",
   "metadata": {},
   "source": [
    "> 리스트에서의 IndexError(예외)"
   ]
  },
  {
   "cell_type": "code",
   "execution_count": null,
   "metadata": {},
   "outputs": [],
   "source": [
    "a = [273, 32, 103]\n",
    "a[4]"
   ]
  },
  {
   "cell_type": "markdown",
   "metadata": {},
   "source": [
    "> 리스트 연산자 : +, *, len()"
   ]
  },
  {
   "cell_type": "code",
   "execution_count": 31,
   "metadata": {},
   "outputs": [
    {
     "name": "stdout",
     "output_type": "stream",
     "text": [
      "[1, 2, 3, 4, 5, 6]\n",
      "[1, 2, 3, 1, 2, 3, 1, 2, 3]\n",
      "9\n"
     ]
    }
   ],
   "source": [
    "a = [1, 2, 3]\n",
    "b = [4, 5, 6]\n",
    "c = a + b\n",
    "print(c)\n",
    "\n",
    "d = a * 3\n",
    "print(d)\n",
    "\n",
    "print(len(d))"
   ]
  },
  {
   "cell_type": "markdown",
   "metadata": {},
   "source": [
    "> 리스트에 요소 추가하기 : append(), insert()"
   ]
  },
  {
   "cell_type": "code",
   "execution_count": 54,
   "metadata": {},
   "outputs": [
    {
     "name": "stdout",
     "output_type": "stream",
     "text": [
      "[1, 2, 3, 4, 5, 6, 7, 8, 9, 10, 11, 12, 13, 14, 15, 16, 17, 18, 19, 20, 21, 22, 23, 24, 25, 26, 27, 28, 29, 30]\n",
      "[1, 2, 3, 4, 5, 'a', 6, 7, 8, 9, 10, 11, 12, 13, 14, 15, 16, 17, 18, 19, 20, 21, 22, 23, 24, 25, 26, 27, 28, 29, 30]\n",
      "['a', 'b', 'c', 'd', 'e', 'f']\n",
      "['a', 'b', 'c', 'd', 'e', 'f', 'g', 'h', 'i']\n"
     ]
    }
   ],
   "source": [
    "# 리스트.append(요소) : 리스트 맨 뒤에 요소가 추가\n",
    "# 리스트.insert(위치, 요소) : 리스트 특정 위치에 요소 삽입\n",
    "\n",
    "data = [1, 2, 3]\n",
    "data.append(4)\n",
    "data.append(5)\n",
    "data\n",
    "\n",
    "data = []\n",
    "for i in range(30):\n",
    "    data.append(i+1)\n",
    "print(data)\n",
    "\n",
    "data.insert(5,'a')\n",
    "print(data)\n",
    "\n",
    "# 리스트.extend(리스트) : 해당 리스트를 확장\n",
    "li_a = ['a', 'b', 'c']\n",
    "li_b = ['d', 'e', 'f']\n",
    "li_c = li_a + li_b\n",
    "print(li_c)\n",
    "\n",
    "li_c.extend(['g','h','i'])\n",
    "print(li_c)"
   ]
  },
  {
   "cell_type": "code",
   "execution_count": 6,
   "metadata": {},
   "outputs": [
    {
     "name": "stdout",
     "output_type": "stream",
     "text": [
      "[[1, 2, 3], [11, 12], [21, 22], [100, 200]]\n",
      "[[1, 2, 3], [11, 12], [21, 22], [100, 200], [300, 400]]\n"
     ]
    }
   ],
   "source": [
    "matrix = [[1, 2], [11, 12], [21, 22]]\n",
    "\n",
    "matrix[0].append(3)\n",
    "\n",
    "matrix.append([100,200])\n",
    "print(matrix)\n",
    "matrix.extend([[300,400]])\n",
    "print(matrix)"
   ]
  },
  {
   "cell_type": "markdown",
   "metadata": {},
   "source": [
    "> 리스트에 요소 제거하기 : pop(), remove()"
   ]
  },
  {
   "cell_type": "code",
   "execution_count": 74,
   "metadata": {},
   "outputs": [
    {
     "name": "stdout",
     "output_type": "stream",
     "text": [
      "['a', 'c', 'd', 'e', 'f']\n",
      "['d', 'e', 'f']\n",
      "삭제요소:  f\n",
      "['d', 'e']\n",
      "삭제요소:  e\n"
     ]
    }
   ],
   "source": [
    "# 인덱스 사용\n",
    "li = ['a','b','c','d','e','f']\n",
    "\n",
    "# 1. del()\n",
    "del li[1]\n",
    "print(li)\n",
    "\n",
    "del li[:2]\n",
    "print(li)\n",
    "\n",
    "# 2. 리스트.pop(index)\n",
    "print('삭제요소: ', li.pop(2))\n",
    "print(li)\n",
    "print('삭제요소: ', li.pop())\n"
   ]
  },
  {
   "cell_type": "code",
   "execution_count": 79,
   "metadata": {},
   "outputs": [
    {
     "name": "stdout",
     "output_type": "stream",
     "text": [
      "[1, 2, 1, 2]\n",
      "[1, 1, 2]\n",
      "[1, 1]\n",
      "[1, 1, 2]\n",
      "[1, 1]\n"
     ]
    }
   ],
   "source": [
    "# 값으로 제거\n",
    "\n",
    "# 리스트.remove(값), 리스트 내부의 값 중에서 가장 먼저 발견되는 하나만 제거\n",
    "li = [1,2,1,2]\n",
    "print(li)\n",
    "\n",
    "x = li.count(2)\n",
    "for _ in range(x):\n",
    "    li.remove(2)\n",
    "    print(li)\n",
    "\n",
    "li = [1,2,1,2]\n",
    "while True:\n",
    "    try:\n",
    "        li.remove(2)\n",
    "        print(li)\n",
    "    except:\n",
    "        break"
   ]
  },
  {
   "cell_type": "code",
   "execution_count": 80,
   "metadata": {},
   "outputs": [
    {
     "name": "stdout",
     "output_type": "stream",
     "text": [
      "[0, 1, 2, 3, 4, 5]\n",
      "[1, 2, 3, 4, 5]\n",
      "[]\n"
     ]
    }
   ],
   "source": [
    "# 모두 제거 : clear()\n",
    "\n",
    "li = [0,1,2,3,4,5]\n",
    "print(li)\n",
    "\n",
    "li.remove(0)\n",
    "print(li)\n",
    "\n",
    "li.clear()\n",
    "print(li)       # 다 비우기"
   ]
  },
  {
   "cell_type": "markdown",
   "metadata": {},
   "source": [
    "> 리스트 내부에 있는지 없는지 확인하기 : in / not in 연산자"
   ]
  },
  {
   "cell_type": "code",
   "execution_count": 84,
   "metadata": {},
   "outputs": [
    {
     "name": "stdout",
     "output_type": "stream",
     "text": [
      "True\n",
      "False\n",
      "True\n",
      "[273, 32, 103, 57, 99]\n"
     ]
    }
   ],
   "source": [
    "print('c' in 'abcdefg')\n",
    "\n",
    "list_n = [273, 32, 103, 57]\n",
    "\n",
    "print(0 in list_n)\n",
    "\n",
    "print(99 not in list_n)\n",
    "\n",
    "val = 99\n",
    "if val not in list_n:\n",
    "    list_n.append(val)\n",
    "    \n",
    "print(list_n)"
   ]
  },
  {
   "cell_type": "markdown",
   "metadata": {},
   "source": [
    "> for 반복문(looping)"
   ]
  },
  {
   "cell_type": "code",
   "execution_count": null,
   "metadata": {},
   "outputs": [],
   "source": [
    "# for java\n",
    "# for(int i = 0; i < 10; i++){\n",
    "#     System.out.println(i + \" for\");\n",
    "# }\n",
    "\n",
    "for _ in range(10):\n",
    "    print('Hello World')"
   ]
  },
  {
   "cell_type": "code",
   "execution_count": 28,
   "metadata": {},
   "outputs": [
    {
     "name": "stdout",
     "output_type": "stream",
     "text": [
      "90,85,70,55,95,60,75,\n",
      "L, i, f, e,  , i, s,  , s, h, o, r, t, ,,  , Y, o, u,  , n, e, e, d,  , P, y, t, h, o, n, ., \n",
      "자연수(1~10)총합:  55\n"
     ]
    }
   ],
   "source": [
    "# for 반복자 in 반복할 수 있는 객체:\n",
    "#           실행코드\n",
    "\n",
    "records = [90, 85, 70, 55, 95, 60, 75]\n",
    "\n",
    "for score in records:\n",
    "    print(score, end=',')\n",
    "print()\n",
    "\n",
    "for s in 'Life is short, You need Python.':\n",
    "    print(s, end = ', ') \n",
    "print()\n",
    "# 1 ~ 10까지의 자연수 총합 구하기\n",
    "natural_numbers = [i for i in range(1, 11)]\n",
    "total = 0\n",
    "for num in natural_numbers:\n",
    "    total += num\n",
    "print('자연수(1~10)총합: ',total)"
   ]
  },
  {
   "cell_type": "markdown",
   "metadata": {},
   "source": [
    "> 아래의 성적 레코드의 최고, 최저, 총점, 평균을 구하는 프로그램 : record.py"
   ]
  },
  {
   "cell_type": "code",
   "execution_count": 40,
   "metadata": {},
   "outputs": [
    {
     "name": "stdout",
     "output_type": "stream",
     "text": [
      "최고점 : 95\n",
      "최저점 : 55\n",
      "총점 : 1605\n",
      "평균 : 76.43\n"
     ]
    }
   ],
   "source": [
    "records = [90, 85, 70, 55, 95, 60, 80, 90, 85, 70, 55, 95, 60, 80, 90, 85, 70, 55, 95, 60, 80]\n",
    "l = len(records)\n",
    "max_, min_ = -1, 9999\n",
    "total_ = 0\n",
    "\n",
    "\n",
    "for score in records:\n",
    "    total_ += score\n",
    "    if score > max_:\n",
    "        max_ = score\n",
    "    if score < min_:\n",
    "        min_ = score\n",
    "        \n",
    "avg_ = total_ / l\n",
    "\n",
    "print('최고점 :', max_)\n",
    "print('최저점 :', min_)\n",
    "print('총점 :', total_)\n",
    "print('평균 :', round(avg_,2))\n"
   ]
  },
  {
   "cell_type": "code",
   "execution_count": 38,
   "metadata": {},
   "outputs": [
    {
     "name": "stdout",
     "output_type": "stream",
     "text": [
      "점수 목록:  [90, 85, 70, 55, 95, 60, 80, 90, 85, 70, 55, 95, 60, 80, 90, 85, 70, 55, 95, 60, 80]\n",
      "최고:95, 최저:55, 총점:1605, 평균: 76.43\n"
     ]
    }
   ],
   "source": [
    "records = [90, 85, 70, 55, 95, 60, 80, 90, 85, 70, 55, 95, 60, 80, 90, 85, 70, 55, 95, 60, 80]\n",
    "max_score = 0\n",
    "min_score = 100\n",
    "total_score = 0\n",
    "for score in records:\n",
    "    if max_score < score:\n",
    "        max_score = score\n",
    "    if min_score > score:\n",
    "        min_score = score\n",
    "    total_score += score\n",
    "print(\"점수 목록: \", records)\n",
    "print(f\"최고:{max_score}, 최저:{min_score}, 총점:{total_score}, 평균:{total_score/len(records) : 0.2f}\")"
   ]
  },
  {
   "cell_type": "markdown",
   "metadata": {},
   "source": [
    "> 아래와 같이 실행 결과가 나오는 프로그램 작성 : digit.py"
   ]
  },
  {
   "cell_type": "code",
   "execution_count": 47,
   "metadata": {},
   "outputs": [
    {
     "name": "stdout",
     "output_type": "stream",
     "text": [
      "273은(는) 3자리수 입니다.\n",
      "103은(는) 3자리수 입니다.\n",
      "5은(는) 1자리수 입니다.\n",
      "32은(는) 2자리수 입니다.\n",
      "65은(는) 2자리수 입니다.\n",
      "9은(는) 1자리수 입니다.\n",
      "72은(는) 2자리수 입니다.\n",
      "800은(는) 3자리수 입니다.\n",
      "99은(는) 2자리수 입니다.\n"
     ]
    }
   ],
   "source": [
    "numbers = [273, 103, 5, 32, 65, 9, 72, 800, 99]\n",
    "\n",
    "# 실행 결과\n",
    "#273 은(는) 3자리수 입니다.\n",
    "\n",
    "for i in numbers:\n",
    "    num_ = i\n",
    "    n = 0\n",
    "    while True:\n",
    "        i = (i // 10)\n",
    "        n += 1\n",
    "        if i == 0:\n",
    "            break\n",
    "    print(f'{num_}은(는) {n}자리수 입니다.')"
   ]
  },
  {
   "cell_type": "code",
   "execution_count": 7,
   "metadata": {},
   "outputs": [
    {
     "name": "stdout",
     "output_type": "stream",
     "text": [
      "['A', 'B', 'C', 'D', 'E', 'F', 'G', 'H', 'I', 'J', 'K', 'L', 'M', 'N', 'O']\n"
     ]
    }
   ],
   "source": [
    "li = [chr(i) for i in range(65,80)]\n",
    "# li.remove('A'); li.remove('J')\n",
    "\n",
    "for i in range(len(li)):\n",
    "    if ord(li[i]) - 65 != i:\n",
    "        li.insert(i,chr(i+65))\n",
    "        \n",
    "print(li)"
   ]
  },
  {
   "cell_type": "code",
   "execution_count": 22,
   "metadata": {},
   "outputs": [],
   "source": []
  }
 ],
 "metadata": {
  "interpreter": {
   "hash": "054c0b5073ae8ed56926c5c67113945079b283bacf1a269ae7086b3d9eebd60c"
  },
  "kernelspec": {
   "display_name": "Python 3.10.1 64-bit",
   "language": "python",
   "name": "python3"
  },
  "language_info": {
   "codemirror_mode": {
    "name": "ipython",
    "version": 3
   },
   "file_extension": ".py",
   "mimetype": "text/x-python",
   "name": "python",
   "nbconvert_exporter": "python",
   "pygments_lexer": "ipython3",
   "version": "3.10.1"
  },
  "orig_nbformat": 4
 },
 "nbformat": 4,
 "nbformat_minor": 2
}
