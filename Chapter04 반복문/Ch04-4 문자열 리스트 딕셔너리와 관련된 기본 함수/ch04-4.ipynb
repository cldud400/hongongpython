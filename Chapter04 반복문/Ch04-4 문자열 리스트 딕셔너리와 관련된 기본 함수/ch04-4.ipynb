{
 "cells": [
  {
   "cell_type": "markdown",
   "metadata": {},
   "source": [
    "### 04-4 문자열, 리스트, 딕셔너리 관련된 기본 함수\n",
    "---\n",
    "***파이썬***스러운 고유 기능 살펴보기 : enumerate() 리스트 내포(List Comprehension)"
   ]
  },
  {
   "cell_type": "markdown",
   "metadata": {},
   "source": [
    "> 리스트에 적용할 수 있는 기본함수 : min(), max(), sum()"
   ]
  },
  {
   "cell_type": "code",
   "execution_count": 23,
   "metadata": {},
   "outputs": [
    {
     "name": "stdout",
     "output_type": "stream",
     "text": [
      "최고점: 98\n",
      "최저점: 56\n",
      "총  점: 400\n",
      "평  균: 80\n",
      "[56, 63, 87, 96, 98]\n",
      "최고점: 56\n",
      "최고점: 96\n"
     ]
    }
   ],
   "source": [
    "# 1 ~ 10 까지의 합\n",
    "li = [i for i in range(1,11)]\n",
    "sum(li)\n",
    "\n",
    "scores = [96, 87, 98, 63, 56]\n",
    "print('최고점:', max(scores))\n",
    "print('최저점:', min(scores))\n",
    "print('총  점:', sum(scores))\n",
    "print('평  균:', sum(scores)//len(scores))\n",
    "\n",
    "scores.sort()\n",
    "a = sorted(scores)\n",
    "print('최고점:', scores[-1])\n",
    "print('최고점:', scores[0])"
   ]
  },
  {
   "cell_type": "markdown",
   "metadata": {},
   "source": [
    "> reversed() : 리스트 뒤집기"
   ]
  },
  {
   "cell_type": "code",
   "execution_count": 46,
   "metadata": {},
   "outputs": [
    {
     "name": "stdout",
     "output_type": "stream",
     "text": [
      "[5, 4, 3, 2, 1]\n",
      "5 4 3 2 1 \n",
      "[]\n"
     ]
    }
   ],
   "source": [
    "list_a = [i for i in range(1, 6)]\n",
    "\n",
    "list_reversed = reversed(list_a)\n",
    "li = list(list_reversed)\n",
    "print(li)\n",
    "\n",
    "# 반복문 적용\n",
    "for i in reversed(list_a):\n",
    "    print(i, end = ' ')\n",
    "\n",
    "print()\n",
    "li_ = list(list_reversed)\n",
    "print(li_)"
   ]
  },
  {
   "cell_type": "markdown",
   "metadata": {},
   "source": [
    "> 확장(step) 슬라이싱으로 리스트 뒤집기"
   ]
  },
  {
   "cell_type": "code",
   "execution_count": 47,
   "metadata": {},
   "outputs": [
    {
     "data": {
      "text/plain": [
       "[5, 4, 3, 2, 1]"
      ]
     },
     "execution_count": 47,
     "metadata": {},
     "output_type": "execute_result"
    }
   ],
   "source": [
    "numbers = [1,2,3,4,5]\n",
    "numbers[::-1]"
   ]
  },
  {
   "cell_type": "markdown",
   "metadata": {},
   "source": [
    "> 이터레이터 (Iterator)"
   ]
  },
  {
   "cell_type": "code",
   "execution_count": 88,
   "metadata": {},
   "outputs": [
    {
     "name": "stdout",
     "output_type": "stream",
     "text": [
      "a b c d e f \n",
      "97 98 99 100 101 102 \n",
      "<class 'list_iterator'>\n",
      "1\n",
      "2\n",
      "3\n"
     ]
    },
    {
     "ename": "StopIteration",
     "evalue": "",
     "output_type": "error",
     "traceback": [
      "\u001b[1;31m---------------------------------------------------------------------------\u001b[0m",
      "\u001b[1;31mStopIteration\u001b[0m                             Traceback (most recent call last)",
      "\u001b[1;32m~\\AppData\\Local\\Temp/ipykernel_12960/1834597010.py\u001b[0m in \u001b[0;36m<module>\u001b[1;34m\u001b[0m\n\u001b[0;32m     20\u001b[0m \u001b[0mprint\u001b[0m\u001b[1;33m(\u001b[0m\u001b[0mnext\u001b[0m\u001b[1;33m(\u001b[0m\u001b[0mli_it\u001b[0m\u001b[1;33m)\u001b[0m\u001b[1;33m)\u001b[0m\u001b[1;33m\u001b[0m\u001b[1;33m\u001b[0m\u001b[0m\n\u001b[0;32m     21\u001b[0m \u001b[0mprint\u001b[0m\u001b[1;33m(\u001b[0m\u001b[0mnext\u001b[0m\u001b[1;33m(\u001b[0m\u001b[0mli_it\u001b[0m\u001b[1;33m)\u001b[0m\u001b[1;33m)\u001b[0m\u001b[1;33m\u001b[0m\u001b[1;33m\u001b[0m\u001b[0m\n\u001b[1;32m---> 22\u001b[1;33m \u001b[0mprint\u001b[0m\u001b[1;33m(\u001b[0m\u001b[0mnext\u001b[0m\u001b[1;33m(\u001b[0m\u001b[0mli_it\u001b[0m\u001b[1;33m)\u001b[0m\u001b[1;33m)\u001b[0m      \u001b[1;31m# Stop Iterator\u001b[0m\u001b[1;33m\u001b[0m\u001b[1;33m\u001b[0m\u001b[0m\n\u001b[0m",
      "\u001b[1;31mStopIteration\u001b[0m: "
     ]
    }
   ],
   "source": [
    "# Iterable 객체 : 반복 가능한 객체('str', 'list', 'dic', 'tuple', 'range', 'enumerate'...)\n",
    "\n",
    "for i in 'abcdef':\n",
    "    print(i, end = ' ')\n",
    "print()\n",
    "\n",
    "for i in b'abcdef':\n",
    "    print(i, end = ' ')\n",
    "print()\n",
    "    \n",
    "# Iterable 객체 : 값을 차례대로 꺼낼 수 있는 객체\n",
    "li = [1, 2, 3]\n",
    "# dir(li)\n",
    "# __iter__\n",
    "li_it = iter(li)\n",
    "print(type(li_it))\n",
    "\n",
    "# next() 내장함수로 차례대로 값을 꺼낼 수 있다.\n",
    "print(next(li_it))\n",
    "print(next(li_it))\n",
    "print(next(li_it))\n",
    "# print(next(li_it))      # Stop Iteration\n"
   ]
  },
  {
   "cell_type": "markdown",
   "metadata": {},
   "source": [
    "> enumerate() 함수와 반복문 조합"
   ]
  },
  {
   "cell_type": "code",
   "execution_count": 100,
   "metadata": {},
   "outputs": [
    {
     "name": "stdout",
     "output_type": "stream",
     "text": [
      "[(0, 'a'), (1, 'b'), (2, 'c'), (3, 'd')]\n",
      "0 = a\n",
      "1 = b\n",
      "2 = c\n",
      "3 = d\n"
     ]
    }
   ],
   "source": [
    "# enum : 열거형 상수\n",
    "# 부서코드 : 관리부(012), 인사(013), ...\n",
    "li_alphas = ['a', 'b', 'c', 'd']\n",
    "enum_li = list(enumerate(li_alphas))\n",
    "print(enum_li)\n",
    "\n",
    "for i, e in enumerate(li_alphas):\n",
    "    print(i,'=',e)\n",
    "    \n",
    "        "
   ]
  },
  {
   "cell_type": "markdown",
   "metadata": {},
   "source": [
    "> 딕셔너리의 items() 함수와 반복문 조합"
   ]
  },
  {
   "cell_type": "code",
   "execution_count": 112,
   "metadata": {},
   "outputs": [
    {
     "name": "stdout",
     "output_type": "stream",
     "text": [
      "A+ A B+ B D \n",
      "dict_items([('A+', 95), ('A', 90), ('B+', 85), ('B', 80), ('D', 60)])\n",
      "키:A+, 값95\n",
      "키:A, 값90\n",
      "키:B+, 값85\n",
      "키:B, 값80\n",
      "키:D, 값60\n"
     ]
    }
   ],
   "source": [
    "di = {'A+':95, 'A':90, 'B+':85, 'B':80, 'D':60}\n",
    "for e in di:\n",
    "    print(e, end = ' ')\n",
    "print()\n",
    "    \n",
    "print(di.items())\n",
    "\n",
    "for k, v in di.items():\n",
    "    print('키:{}, 값{}'.format(k, v))"
   ]
  },
  {
   "cell_type": "markdown",
   "metadata": {},
   "source": [
    "> 리스트 내포(List comprehension)"
   ]
  },
  {
   "cell_type": "code",
   "execution_count": 130,
   "metadata": {},
   "outputs": [
    {
     "name": "stdout",
     "output_type": "stream",
     "text": [
      "li_1 =  [0, 1, 2, 3, 4, 5, 6, 7, 8, 9]\n",
      "li_2 =  [0, 100, 200, 300, 400, 500, 600, 700, 800, 900]\n",
      "li_3 =  [0, 1, 4, 9, 16, 25, 36, 49, 64, 81]\n",
      "li_4 =  [0, 1, 4, 9, 16, 25, 36, 49, 64, 81]\n",
      "li_5 =  [0, 2, 4, 6, 8]\n",
      "li_6 =  [0, 2, 4, 6, 8]\n"
     ]
    }
   ],
   "source": [
    "# [] 리스트 안에 식, for 반복문, if 조건문 등을 지정하여 리스트를 생성하는 것\n",
    "# [ 식 for 변수 in 반복저료형 if 조건식 ]\n",
    "# list( 식 for 변수 in 반복저료형 if 조건식 )\n",
    "li_1 = list(range(10))\n",
    "print('li_1 = ', li_1)\n",
    "\n",
    "li_2 = [i*100 for i in range(10)]\n",
    "print('li_2 = ', li_2)\n",
    "\n",
    "li_3 = [i*i for i in range(10)]\n",
    "print('li_3 = ', li_3)\n",
    "\n",
    "li_4 = []\n",
    "for i in range(10):\n",
    "    li_4.append(i*i)\n",
    "print('li_4 = ', li_4)\n",
    "\n",
    "li_5 = []\n",
    "for i in range(10):\n",
    "    if i % 2 == 0:\n",
    "        li_5.append(i)\n",
    "print('li_5 = ', li_5)\n",
    "\n",
    "# 주석 : 설명\n",
    "# li_6 = [i for i in range(0,10,2)]\n",
    "# print('li_6 = ', li_6)\n",
    "li_6 = [i for i in range(10) if i % 2 == 0]\n",
    "print('li_6 = ', li_6)"
   ]
  },
  {
   "cell_type": "code",
   "execution_count": 141,
   "metadata": {},
   "outputs": [
    {
     "name": "stdout",
     "output_type": "stream",
     "text": [
      "output = ['이승만대통령', '박정희대통령', '김영삼대통령', '김대중대통령', '이명박대통령', '박근혜대통령']\n"
     ]
    }
   ],
   "source": [
    "presidents = ['이승만', '박정희', '전두환', '최규하', '노태우', '김영삼', '김대중', '노무현', '이명박', '박근혜', '문재인']\n",
    "\n",
    "# 성이 '김', '이', '박'인 대통령을 추출하여 리스트를 생성하세요.\n",
    "# output_ = [i for i in presidents if i[0] in '김이박']\n",
    "output_ = [ name + '대통령' for name in presidents if name[0] in '김이박']\n",
    "print('output =', output_)"
   ]
  },
  {
   "cell_type": "code",
   "execution_count": null,
   "metadata": {},
   "outputs": [],
   "source": [
    "import string\n",
    "string.punctuation\n",
    "signs = '!\"#$P%&\\'(y)*+,t-./h:;<o=>?n@[\\\\]^_`{|}~'\n",
    "\n",
    "li = [ i for i in signs if i not in string.punctuation ]\n",
    "print(''.join(li))"
   ]
  },
  {
   "cell_type": "markdown",
   "metadata": {},
   "source": [
    "> 구구단 출력 프로그램 작성"
   ]
  },
  {
   "cell_type": "code",
   "execution_count": 167,
   "metadata": {},
   "outputs": [
    {
     "name": "stdout",
     "output_type": "stream",
     "text": [
      "2x1=02 2x2=04 2x3=06 2x4=08 2x5=10 2x6=12 2x7=14 2x8=16 2x9=18 \n",
      "3x1=03 3x2=06 3x3=09 3x4=12 3x5=15 3x6=18 3x7=21 3x8=24 3x9=27 \n",
      "4x1=04 4x2=08 4x3=12 4x4=16 4x5=20 4x6=24 4x7=28 4x8=32 4x9=36 \n",
      "5x1=05 5x2=10 5x3=15 5x4=20 5x5=25 5x6=30 5x7=35 5x8=40 5x9=45 \n",
      "6x1=06 6x2=12 6x3=18 6x4=24 6x5=30 6x6=36 6x7=42 6x8=48 6x9=54 \n",
      "7x1=07 7x2=14 7x3=21 7x4=28 7x5=35 7x6=42 7x7=49 7x8=56 7x9=63 \n",
      "8x1=08 8x2=16 8x3=24 8x4=32 8x5=40 8x6=48 8x7=56 8x8=64 8x9=72 \n",
      "9x1=09 9x2=18 9x3=27 9x4=36 9x5=45 9x6=54 9x7=63 9x8=72 9x9=81 \n",
      "[2, 4, 6, 8, 10, 12, 14, 16, 18]\n",
      "[3, 6, 9, 12, 15, 18, 21, 24, 27]\n",
      "[4, 8, 12, 16, 20, 24, 28, 32, 36]\n",
      "[5, 10, 15, 20, 25, 30, 35, 40, 45]\n",
      "[6, 12, 18, 24, 30, 36, 42, 48, 54]\n",
      "[7, 14, 21, 28, 35, 42, 49, 56, 63]\n",
      "[8, 16, 24, 32, 40, 48, 56, 64, 72]\n",
      "[9, 18, 27, 36, 45, 54, 63, 72, 81]\n"
     ]
    }
   ],
   "source": [
    "multi_list = [[0] * 9 for _ in range(8)]\n",
    "for i in range(2, 10):\n",
    "    for j in range(1, 10):\n",
    "        k = i * j\n",
    "        print('{}x{}={:02}'.format(i,j,k), end = ' ')\n",
    "        multi_list[i-2][j-1] = k\n",
    "    print()\n",
    "\n",
    "for i in multi_list:\n",
    "    print(i)"
   ]
  },
  {
   "cell_type": "code",
   "execution_count": 163,
   "metadata": {},
   "outputs": [
    {
     "name": "stdout",
     "output_type": "stream",
     "text": [
      "[2, 4, 6, 8, 10, 12, 14, 16, 18]\n",
      "[3, 6, 9, 12, 15, 18, 21, 24, 27]\n",
      "[4, 8, 12, 16, 20, 24, 28, 32, 36]\n",
      "[5, 10, 15, 20, 25, 30, 35, 40, 45]\n",
      "[6, 12, 18, 24, 30, 36, 42, 48, 54]\n",
      "[7, 14, 21, 28, 35, 42, 49, 56, 63]\n",
      "[8, 16, 24, 32, 40, 48, 56, 64, 72]\n",
      "[9, 18, 27, 36, 45, 54, 63, 72, 81]\n"
     ]
    }
   ],
   "source": [
    "multi_list2 = [[j*i for i in range(1,10)] for j in range(2,10)]\n",
    "# print(multi_list2)\n",
    "\n",
    "for i in multi_list2:\n",
    "    print(i)"
   ]
  },
  {
   "cell_type": "markdown",
   "metadata": {},
   "source": [
    "> 문자열 join() 함수"
   ]
  },
  {
   "cell_type": "code",
   "execution_count": 175,
   "metadata": {},
   "outputs": [
    {
     "data": {
      "text/plain": [
       "'C:\\\\Program Files\\\\Git\\\\tmp'"
      ]
     },
     "execution_count": 175,
     "metadata": {},
     "output_type": "execute_result"
    }
   ],
   "source": [
    "# 문자열.join(문자열로 구성된 리스트)\n",
    "\n",
    "phone = '-'.join(['010','1234','5678'])\n",
    "phone\n",
    "path = '\\\\'.join(['C:', 'Program Files', 'Git', 'tmp'])\n",
    "path\n"
   ]
  },
  {
   "cell_type": "code",
   "execution_count": null,
   "metadata": {},
   "outputs": [],
   "source": []
  }
 ],
 "metadata": {
  "interpreter": {
   "hash": "054c0b5073ae8ed56926c5c67113945079b283bacf1a269ae7086b3d9eebd60c"
  },
  "kernelspec": {
   "display_name": "Python 3.10.1 64-bit",
   "language": "python",
   "name": "python3"
  },
  "language_info": {
   "codemirror_mode": {
    "name": "ipython",
    "version": 3
   },
   "file_extension": ".py",
   "mimetype": "text/x-python",
   "name": "python",
   "nbconvert_exporter": "python",
   "pygments_lexer": "ipython3",
   "version": "3.10.1"
  },
  "orig_nbformat": 4
 },
 "nbformat": 4,
 "nbformat_minor": 2
}
