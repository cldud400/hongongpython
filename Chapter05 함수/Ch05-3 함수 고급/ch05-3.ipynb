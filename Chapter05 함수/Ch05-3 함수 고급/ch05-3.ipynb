{
 "cells": [
  {
   "cell_type": "markdown",
   "metadata": {},
   "source": [
    "### 05-3 함수 고급\n",
    "---\n",
    "***튜플(tuple)***과 ***람다(lanbda)***"
   ]
  },
  {
   "cell_type": "markdown",
   "metadata": {},
   "source": [
    "> 튜플(tuple)"
   ]
  },
  {
   "cell_type": "code",
   "execution_count": 2,
   "metadata": {},
   "outputs": [
    {
     "ename": "TypeError",
     "evalue": "'tuple' object does not support item assignment",
     "output_type": "error",
     "traceback": [
      "\u001b[1;31m---------------------------------------------------------------------------\u001b[0m",
      "\u001b[1;31mTypeError\u001b[0m                                 Traceback (most recent call last)",
      "\u001b[1;32m~\\AppData\\Local\\Temp/ipykernel_4004/2115959608.py\u001b[0m in \u001b[0;36m<module>\u001b[1;34m\u001b[0m\n\u001b[0;32m      3\u001b[0m \u001b[1;33m\u001b[0m\u001b[0m\n\u001b[0;32m      4\u001b[0m \u001b[0mtu\u001b[0m \u001b[1;33m=\u001b[0m \u001b[1;33m(\u001b[0m\u001b[1;36m10\u001b[0m\u001b[1;33m,\u001b[0m \u001b[1;36m20\u001b[0m\u001b[1;33m,\u001b[0m \u001b[1;36m30\u001b[0m\u001b[1;33m)\u001b[0m\u001b[1;33m\u001b[0m\u001b[1;33m\u001b[0m\u001b[0m\n\u001b[1;32m----> 5\u001b[1;33m \u001b[0mtu\u001b[0m\u001b[1;33m[\u001b[0m\u001b[1;36m0\u001b[0m\u001b[1;33m]\u001b[0m \u001b[1;33m=\u001b[0m \u001b[1;36m1\u001b[0m\u001b[1;33m\u001b[0m\u001b[1;33m\u001b[0m\u001b[0m\n\u001b[0m",
      "\u001b[1;31mTypeError\u001b[0m: 'tuple' object does not support item assignment"
     ]
    }
   ],
   "source": [
    "# 튜플 : 함수와 함께 많이 사용되는 리스트와 비슷한 자료형\n",
    "# 한 번 결정된 요소는 바꿀 수 없다!!!\n",
    "\n",
    "tu = (10, 20, 30)\n",
    "tu[0] = 1\n",
    "\n",
    "# TypeError: 'tuple' object does not support item assignment"
   ]
  },
  {
   "cell_type": "code",
   "execution_count": 6,
   "metadata": {},
   "outputs": [
    {
     "data": {
      "text/plain": [
       "tuple"
      ]
     },
     "execution_count": 6,
     "metadata": {},
     "output_type": "execute_result"
    }
   ],
   "source": [
    "# 요소를 하나만 가지는 튜플 생성\n",
    "\n",
    "type([273])\n",
    "type((273))     # int\n",
    "type((273,))    # tuple"
   ]
  },
  {
   "cell_type": "code",
   "execution_count": 11,
   "metadata": {},
   "outputs": [
    {
     "name": "stdout",
     "output_type": "stream",
     "text": [
      "10 20 30 40\n",
      "1 2 3 4 5 6\n"
     ]
    },
    {
     "data": {
      "text/plain": [
       "20"
      ]
     },
     "execution_count": 11,
     "metadata": {},
     "output_type": "execute_result"
    }
   ],
   "source": [
    "# 변수 다중 할당\n",
    "[a, b] = [10, 20]\n",
    "(c, d) = (30, 40)\n",
    "print(a, b, c, d)\n",
    "\n",
    "a, b, c = [1, 2, 3]\n",
    "d, e, f = (4, 5, 6)\n",
    "print(a, b, c, d, e, f)\n",
    "\n",
    "x = [1, 2, 3]\n",
    "a, b, c = x\n",
    "\n",
    "y = (1, 2, 3)\n",
    "a, b, c = y\n",
    "\n",
    "# 괄호 생략\n",
    "tu = 10, 20, 30\n",
    "type(tu)\n",
    "\n",
    "# 변수의 값 교환\n",
    "a, b = 10, 20\n",
    "a, b = b, a\n",
    "a"
   ]
  },
  {
   "cell_type": "markdown",
   "metadata": {},
   "source": [
    "> 튜플과 함수"
   ]
  },
  {
   "cell_type": "code",
   "execution_count": 12,
   "metadata": {},
   "outputs": [],
   "source": [
    "# 튜플은 함수의 리턴에 많이 사용(여러개의 값을 리턴하고 할당 가능)\n",
    "def test():\n",
    "    return (10, 20)\n",
    "\n",
    "a, b = test()"
   ]
  },
  {
   "cell_type": "markdown",
   "metadata": {},
   "source": [
    "#### 람다(lambda) : 람다표현식(익명함수) <> def"
   ]
  },
  {
   "cell_type": "markdown",
   "metadata": {},
   "source": [
    "> 함수의 매개변수로 함수 전달하기"
   ]
  },
  {
   "cell_type": "code",
   "execution_count": 4,
   "metadata": {},
   "outputs": [
    {
     "name": "stdout",
     "output_type": "stream",
     "text": [
      "안녕하세요~~~\n",
      "안녕하세요~~~\n",
      "안녕하세요~~~\n"
     ]
    }
   ],
   "source": [
    "def call_3_times(func):\n",
    "    for i in range(3):\n",
    "        func()\n",
    "\n",
    "\n",
    "def print_hello1():\n",
    "    print('안녕하세요')\n",
    "    \n",
    "def print_hello2():\n",
    "    print('안녕하세요~~~')\n",
    "\n",
    "# 함수 call(매개변수로 함수를 전달)\n",
    "call_3_times(print_hello2)"
   ]
  },
  {
   "cell_type": "code",
   "execution_count": 5,
   "metadata": {},
   "outputs": [
    {
     "name": "stdout",
     "output_type": "stream",
     "text": [
      "hi\n",
      "hi\n",
      "hi\n"
     ]
    }
   ],
   "source": [
    "# 람다 표현식 적용\n",
    "call_3_times(lambda : print('hi'))"
   ]
  },
  {
   "cell_type": "markdown",
   "metadata": {},
   "source": [
    "> 람다 표현식으로 함수 만들기"
   ]
  },
  {
   "cell_type": "code",
   "execution_count": 15,
   "metadata": {},
   "outputs": [
    {
     "data": {
      "text/plain": [
       "<function __main__.<lambda>(x)>"
      ]
     },
     "execution_count": 15,
     "metadata": {},
     "output_type": "execute_result"
    }
   ],
   "source": [
    "def plus_ten(x):\n",
    "    return x + 10\n",
    "\n",
    "plus_ten(1)\n",
    "\n",
    "# lambda 매개변수 : 리턴값\n",
    "lambda x : x + 10"
   ]
  },
  {
   "cell_type": "code",
   "execution_count": 20,
   "metadata": {},
   "outputs": [
    {
     "name": "stdout",
     "output_type": "stream",
     "text": [
      "<class 'function'>\n"
     ]
    },
    {
     "data": {
      "text/plain": [
       "13"
      ]
     },
     "execution_count": 20,
     "metadata": {},
     "output_type": "execute_result"
    }
   ],
   "source": [
    "plus_two = lambda x : x + 2\n",
    "print(type(plus_two))\n",
    "plus_two(3)\n",
    "\n",
    "(lambda x : x + 2)(11)"
   ]
  },
  {
   "cell_type": "code",
   "execution_count": 26,
   "metadata": {},
   "outputs": [
    {
     "data": {
      "text/plain": [
       "11"
      ]
     },
     "execution_count": 26,
     "metadata": {},
     "output_type": "execute_result"
    }
   ],
   "source": [
    "# [주의사항]\n",
    "# 람다 표현식 안에서는 변수를 만들 수 없다!\n",
    "\n",
    "# (lambda x : y = 10; x + y)(11)\n",
    "\n",
    "y = 0\n",
    "(lambda x : x + y)(11)"
   ]
  },
  {
   "cell_type": "markdown",
   "metadata": {},
   "source": [
    "> filter() 함수와 map() 함수"
   ]
  },
  {
   "cell_type": "code",
   "execution_count": 39,
   "metadata": {},
   "outputs": [
    {
     "name": "stdout",
     "output_type": "stream",
     "text": [
      "map() 함수의 실행결과\n",
      "<map object at 0x00000279115668F0>\n",
      "[1, 4, 9, 16, 25]\n",
      "filter() 함수의 실행결과\n",
      "<filter object at 0x00000279115643D0>\n",
      "[1, 2]\n"
     ]
    }
   ],
   "source": [
    "# 함수를 매개변수로 전달하는 대표적인 표준함수\n",
    "# map(함수, 리스트)\n",
    "# filter(함수, 리스트)\n",
    "\n",
    "def power(item):\n",
    "    return item * item\n",
    "\n",
    "def under_3(item):\n",
    "    return item < 3\n",
    "\n",
    "li = [1, 2, 3, 4, 5]\n",
    "\n",
    "# map() 함수를 이용\n",
    "output = map(power,li)\n",
    "print('map() 함수의 실행결과')\n",
    "print(output)\n",
    "print(list(output))\n",
    "\n",
    "# filter() 함수를 이용\n",
    "output = filter(under_3, li)\n",
    "print('filter() 함수의 실행결과')\n",
    "print(output)\n",
    "print(list(output))\n"
   ]
  },
  {
   "cell_type": "code",
   "execution_count": 44,
   "metadata": {},
   "outputs": [
    {
     "name": "stdout",
     "output_type": "stream",
     "text": [
      "[1, 8, 27, 64, 125]\n",
      "[1, 2, 3]\n"
     ]
    }
   ],
   "source": [
    "# 인라인 람다\n",
    "output = list(map(lambda x : x ** 3, li))\n",
    "print(output)\n",
    "\n",
    "output = filter(lambda x: x <= 3, li)\n",
    "print(list(output))"
   ]
  },
  {
   "cell_type": "markdown",
   "metadata": {},
   "source": [
    "### 파일 처리 : 열기, 읽기, 쓰기"
   ]
  },
  {
   "cell_type": "markdown",
   "metadata": {},
   "source": [
    "> 파일에 문자열 쓰기"
   ]
  },
  {
   "cell_type": "code",
   "execution_count": 60,
   "metadata": {},
   "outputs": [
    {
     "name": "stdout",
     "output_type": "stream",
     "text": [
      "b'ABCD' <class 'bytes'>\n",
      "0x20\n",
      "Hello World\n"
     ]
    }
   ],
   "source": [
    "sb = 'ABCD'.encode()\n",
    "print(sb, type(sb))\n",
    "\n",
    "data = b'\\x48\\x65\\x6c\\x6c\\x6f\\x20\\x57\\x6f\\x72\\x6c\\x64'\n",
    "\n",
    "print(hex(ord(' ')))        # 공백 0x20\n",
    "print(data.decode())"
   ]
  },
  {
   "cell_type": "code",
   "execution_count": 40,
   "metadata": {},
   "outputs": [
    {
     "name": "stdout",
     "output_type": "stream",
     "text": [
      "<class '_io.TextIOWrapper'>\n",
      "../../source/basic.txt w\n"
     ]
    }
   ],
   "source": [
    "# 표준입출력 : <stdio> <iostream>\n",
    "# I.O란 컴퓨터 내부 또는 외부의 장치와 프로그램 간의 데이터를 주고받는 것\n",
    "# 단방형 buffer : InputStream, OutStream\n",
    "\n",
    "# open('파일경로','모드')\n",
    "# 모드 : w(write), a(append), r(read), t(text : default), b(binary)\n",
    "\n",
    "# open() ~ close() 미리 작성하는 습관을 가질 것\n",
    "\n",
    "# 1. 파일객체 얻기\n",
    "file_ = open('../../source/basic.txt', 'w')\n",
    "print(type(file_))\n",
    "print(file_.name, file_.mode)\n",
    "\n",
    "\n",
    "# 2. 읽기/쓰기\n",
    "file_.write('[Hello Python Programming]\\n')\n",
    "file_.write('First line...!\\n')\n",
    "file_.write('Second line...!\\n')\n",
    "file_.write('Third line...!\\n')\n",
    "file_.write('End line...!')\n",
    "\n",
    "# 3. 파일객체 닫기\n",
    "file_.close()\n",
    "\n",
    "\n",
    "\n",
    "    "
   ]
  },
  {
   "cell_type": "code",
   "execution_count": 33,
   "metadata": {},
   "outputs": [
    {
     "name": "stdout",
     "output_type": "stream",
     "text": [
      "1 [Hello Python Programming]\n",
      "2 First line...!\n",
      "3 Second line...!\n",
      "4 Third line...!\n",
      "5 End line...!\n",
      "6 False\n",
      "7 False\n",
      "8 False\n"
     ]
    }
   ],
   "source": [
    "fo = open('../../source/basic.txt','r')\n",
    "# 한꺼번에 읽기\n",
    "# text = fo.read()\n",
    "# print(text)\n",
    "\n",
    "# 한 줄씩 읽어오기\n",
    "print(1, fo.readline(), end = '')\n",
    "print(2, fo.readline(), end = '')\n",
    "print(3, fo.readline(), end = '')\n",
    "print(4, fo.readline(), end = '')\n",
    "print(5, fo.readline())\n",
    "print(6, bool(fo.readline()))\n",
    "print(7, bool(''))\n",
    "print(8, bool(fo.readline()))\n",
    "\n",
    "fo.close()\n"
   ]
  },
  {
   "cell_type": "code",
   "execution_count": null,
   "metadata": {},
   "outputs": [],
   "source": [
    "f = open('../../source/basic.txt','rt')\n",
    "lines = f.readline()\n",
    "for i in range(len(lines)):\n",
    "    print(f'{i+1} line:', lines[i].strip())     # strip() : whitespace(' ', \\n_ removed\n",
    "    \n",
    "\n",
    "f.close()"
   ]
  },
  {
   "cell_type": "markdown",
   "metadata": {},
   "source": [
    "with 키워드"
   ]
  },
  {
   "cell_type": "code",
   "execution_count": null,
   "metadata": {},
   "outputs": [],
   "source": [
    "try:\n",
    "    fo = open('basic.txt',mode = 'rt')\n",
    "    for line in fo:\n",
    "        print(line)\n",
    "\n",
    "finally:\n",
    "    fo.close()\n",
    "    \n",
    "with open('basic.txt',mode = 'rt') as fi:\n",
    "    fi.readline()\n",
    "    "
   ]
  },
  {
   "cell_type": "markdown",
   "metadata": {},
   "source": [
    "> csv 파일 만들어 사용하기"
   ]
  },
  {
   "cell_type": "code",
   "execution_count": 50,
   "metadata": {},
   "outputs": [],
   "source": [
    "# 텍스트를 사용해 데이터를 구조적으로 표현하는 방법 : csv, xml, json\n",
    "# csv 파일 : 한 줄에 하나의 데이터를 나타내며, 각각의 줄은 ','(쉼표)로 데이터를 구분한다.\n",
    "# 김철수, 178, 65\n",
    "\n",
    "import random\n",
    "\n",
    "first_names = '김이박최정강조윤장임한오서신'\n",
    "last_names = '가나다라마바사아자차카타파하'\n",
    "\n",
    "with open('info.csv', 'w', encoding='utf-8') as f:\n",
    "    for i in range(10):\n",
    "        first = random.choice(first_names)\n",
    "        last = random.choice(last_names) + random.choice(last_names)\n",
    "        name = first + last\n",
    "        \n",
    "        height = random.randrange(140, 200)\n",
    "        weight = random.randrange(40, 120)\n",
    "        \n",
    "        f.write('{}, {}, {}\\n'.format(name,height,weight))\n"
   ]
  },
  {
   "cell_type": "code",
   "execution_count": null,
   "metadata": {},
   "outputs": [],
   "source": [
    "# 비만도(BMI) : 몸무게/키(m)의 제곱\n",
    "\n",
    "with open('info.csv', 'r', encoding='utf-8') as fo:\n",
    "    for line in fo:\n",
    "        (name, height, weight) = line.strip().split(', ')\n",
    "        # 데이터가 유효한지 검사\n",
    "        if (not name) or (not weight) or (not height):\n",
    "            continue\n",
    "        # BMI 계산\n",
    "        bmi = int(weight) / ((int(height) / 100) ** 2)\n",
    "        bmi = round(bmi, 2)\n",
    "        result = ''\n",
    "        if bmi >= 25:\n",
    "            result = '비만'\n",
    "        elif bmi >= 23:\n",
    "            result = '과체중'\n",
    "        elif bmi >= 18.5:\n",
    "            result = '정상'\n",
    "        else:\n",
    "            result = '저체중'\n",
    "        \n",
    "        str_out = '\\n'.join([\n",
    "            '이름: {}', \n",
    "            '키: {}', \n",
    "            '몸무게: {}', \n",
    "            'BMI: {}', \n",
    "            '결과: {}'\n",
    "        ]).format(name,height,weight,bmi,result)\n",
    "        print(str_out)\n",
    "        print()\n",
    "        "
   ]
  },
  {
   "cell_type": "markdown",
   "metadata": {},
   "source": [
    "> binary 파일"
   ]
  },
  {
   "cell_type": "code",
   "execution_count": 61,
   "metadata": {},
   "outputs": [],
   "source": [
    "# 이미지 링크 저장하기\n",
    "from urllib import request\n",
    "\n",
    "target = request.urlopen('https://www.smlounge.co.kr/upload/woman/article/201906/thumb/42093-370390-sampleM.jpg')\n",
    "bin_file = target.read()\n",
    "# print(bin_file)\n",
    "\n",
    "with open('..\\\\..\\\\source\\\\sample.jpg', 'wb') as fb:        # wb : write binary\n",
    "    fb.write(bin_file)\n"
   ]
  }
 ],
 "metadata": {
  "interpreter": {
   "hash": "054c0b5073ae8ed56926c5c67113945079b283bacf1a269ae7086b3d9eebd60c"
  },
  "kernelspec": {
   "display_name": "Python 3.10.1 64-bit",
   "language": "python",
   "name": "python3"
  },
  "language_info": {
   "codemirror_mode": {
    "name": "ipython",
    "version": 3
   },
   "file_extension": ".py",
   "mimetype": "text/x-python",
   "name": "python",
   "nbconvert_exporter": "python",
   "pygments_lexer": "ipython3",
   "version": "3.10.1"
  },
  "orig_nbformat": 4
 },
 "nbformat": 4,
 "nbformat_minor": 2
}
