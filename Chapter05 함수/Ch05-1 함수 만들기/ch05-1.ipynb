{
 "cells": [
  {
   "cell_type": "markdown",
   "metadata": {},
   "source": [
    "### 05-1 함수를 만들기\n",
    "---\n",
    "#### 시작하기 전에\n",
    "***함수호출*** (함수call), ***함수의 매개변수*** (parameter), ***함수의 인자*** (argument)"
   ]
  },
  {
   "cell_type": "markdown",
   "metadata": {},
   "source": [
    "> 함수의 역할 : 함수는 한마디로 어떤 기능을 하는 ***코드의 집합*** 이다."
   ]
  },
  {
   "cell_type": "code",
   "execution_count": 10,
   "metadata": {},
   "outputs": [
    {
     "name": "stdout",
     "output_type": "stream",
     "text": [
      "12.7\n",
      "Hello~\n",
      "Hi~ Hi~ Hi~ Hi~ Hi~ \n"
     ]
    }
   ],
   "source": [
    "# 1. 함수 선언(정의)\n",
    "# def 함수명(매개번수):\n",
    "#       실행문\n",
    "\n",
    "def hello():\n",
    "    print('Hello~')\n",
    "\n",
    "def hi(num):\n",
    "    print('Hi~ ' * num)\n",
    "\n",
    "def to_cm(inch_val):\n",
    "    return inch_val * 2.54\n",
    "\n",
    "cm = to_cm(5)\n",
    "print(cm)\n",
    "hello()\n",
    "hi(5)"
   ]
  },
  {
   "cell_type": "code",
   "execution_count": 16,
   "metadata": {},
   "outputs": [
    {
     "data": {
      "text/plain": [
       "5"
      ]
     },
     "execution_count": 16,
     "metadata": {},
     "output_type": "execute_result"
    }
   ],
   "source": [
    "len('abc')\n",
    "\n",
    "def my_len(args):\n",
    "    ''' 내가 만든 len()\n",
    "        args : 문자열 타입'''\n",
    "    cnt = 0\n",
    "    for i in args:\n",
    "        cnt += 1\n",
    "    return cnt\n",
    "\n",
    "my_len('abcde')"
   ]
  },
  {
   "cell_type": "markdown",
   "metadata": {},
   "source": [
    "> 함수에 매개변수 만들기"
   ]
  },
  {
   "cell_type": "code",
   "execution_count": 18,
   "metadata": {},
   "outputs": [
    {
     "name": "stdout",
     "output_type": "stream",
     "text": [
      "합 :  5\n",
      "밥 먹었니? \n",
      "잘 잤니? 잘 잤니? 잘 잤니? \n"
     ]
    }
   ],
   "source": [
    "def two_add(a, b):\n",
    "    return a+b\n",
    "\n",
    "def greet(msg, cnt):\n",
    "    print((msg + ' ') * cnt)\n",
    "    \n",
    "total = two_add(2, 3)\n",
    "print('합 : ', total)\n",
    "\n",
    "greet('밥 먹었니?', 1)\n",
    "greet('잘 잤니?', 3)\n",
    "      "
   ]
  },
  {
   "cell_type": "markdown",
   "metadata": {},
   "source": [
    "> 가변매개변수(인자)와 언패킹 사용하기"
   ]
  },
  {
   "cell_type": "code",
   "execution_count": 4,
   "metadata": {},
   "outputs": [
    {
     "name": "stdout",
     "output_type": "stream",
     "text": [
      "\n",
      "1\n",
      "1 2 3\n"
     ]
    }
   ],
   "source": [
    "# 함수 오버로딩\n",
    "# int add(int a, int b){}\n",
    "# float add(int a, float b){}\n",
    "# float add(float a, float b){}\n",
    "\n",
    "def add(x,y):\n",
    "    return x + y\n",
    "\n",
    "add(2, 3)\n",
    "add(1, 2.3)\n",
    "add(1.0, 1.1)\n",
    "\n",
    "print()         # 0\n",
    "print(1)        # 1\n",
    "print(1, 2, 3)  # 3\n",
    "# ?\n",
    "print(1, 2, 3, 4, 5, 6, 7,)     # 가변적이다."
   ]
  },
  {
   "cell_type": "code",
   "execution_count": null,
   "metadata": {},
   "outputs": [],
   "source": [
    "def messenger(cnt, *msgs):\n",
    "    print(type(msgs))\n",
    "    for i in range(cnt):\n",
    "        print(i+1, '.')\n",
    "        for i in msgs:\n",
    "            print(i)\n",
    "        print()\n",
    "    \n",
    "messenger(2, '문자열', '문자열2', '문자열3', '..........')\n",
    "messenger(3, '문자열', '문자열2', '..........')\n",
    "messenger(1, '문자열', '..........')\n",
    "\n"
   ]
  },
  {
   "cell_type": "code",
   "execution_count": 41,
   "metadata": {},
   "outputs": [
    {
     "ename": "TypeError",
     "evalue": "messenger() missing 1 required keyword-only argument: 'cnt'",
     "output_type": "error",
     "traceback": [
      "\u001b[1;31m---------------------------------------------------------------------------\u001b[0m",
      "\u001b[1;31mTypeError\u001b[0m                                 Traceback (most recent call last)",
      "\u001b[1;32m~\\AppData\\Local\\Temp/ipykernel_11776/192012342.py\u001b[0m in \u001b[0;36m<module>\u001b[1;34m\u001b[0m\n\u001b[0;32m      7\u001b[0m         \u001b[0mprint\u001b[0m\u001b[1;33m(\u001b[0m\u001b[1;33m)\u001b[0m\u001b[1;33m\u001b[0m\u001b[1;33m\u001b[0m\u001b[0m\n\u001b[0;32m      8\u001b[0m \u001b[1;33m\u001b[0m\u001b[0m\n\u001b[1;32m----> 9\u001b[1;33m \u001b[0mmessenger\u001b[0m\u001b[1;33m(\u001b[0m\u001b[1;34m'열차가 들어오고 있습니다.'\u001b[0m\u001b[1;33m,\u001b[0m \u001b[1;34m'뒤로 물러서서 기다려 주세요'\u001b[0m\u001b[1;33m,\u001b[0m \u001b[1;36m2\u001b[0m\u001b[1;33m)\u001b[0m\u001b[1;33m\u001b[0m\u001b[1;33m\u001b[0m\u001b[0m\n\u001b[0m",
      "\u001b[1;31mTypeError\u001b[0m: messenger() missing 1 required keyword-only argument: 'cnt'"
     ]
    }
   ],
   "source": [
    "# 가변인수가 맨 앞에 오는 경우\n",
    "def messenger(*msgs, cnt):      # 가변인수는 항상 맨뒤에...\n",
    "    for i in range(cnt):\n",
    "        print(i+1, '.')\n",
    "        for i in msgs:\n",
    "            print(i)\n",
    "        print()\n",
    "        \n",
    "messenger('열차가 들어오고 있습니다.', '뒤로 물러서서 기다려 주세요', 2)\n"
   ]
  },
  {
   "cell_type": "code",
   "execution_count": 59,
   "metadata": {},
   "outputs": [
    {
     "name": "stdout",
     "output_type": "stream",
     "text": [
      "3\n",
      "15\n",
      "41\n"
     ]
    },
    {
     "data": {
      "text/plain": [
       "600"
      ]
     },
     "execution_count": 59,
     "metadata": {},
     "output_type": "execute_result"
    }
   ],
   "source": [
    "# add(1, 2)           # 3\n",
    "# add(1, 2, 4, 8)     # 15\n",
    "\n",
    "def smart_add(*nums):\n",
    "    ret = 0\n",
    "    for i in nums:\n",
    "        ret += i\n",
    "    #     print(ret, end = ' ')\n",
    "    # print()\n",
    "    # print(ret)\n",
    "    return ret\n",
    "\n",
    "print(smart_add(1, 2))\n",
    "print(smart_add(1, 2, 4, 8))\n",
    "print(smart_add(1, 2, 4, 8, 5, 6, 7, 8))\n",
    "\n",
    "# 리스트 언패킹 사용하기(가변인자는 곧 배열)\n",
    "li = [100, 200, 300]\n",
    "smart_add(100,200,300)\n",
    "smart_add(*[100,200,300])\n",
    "smart_add(*li)\n",
    "\n",
    "    \n"
   ]
  },
  {
   "cell_type": "code",
   "execution_count": 62,
   "metadata": {},
   "outputs": [
    {
     "name": "stdout",
     "output_type": "stream",
     "text": [
      "사용자가 입력한 정수 목록 =  [1, 2, 3, 4, 5]\n",
      "정수들의 총 합 =  15\n"
     ]
    }
   ],
   "source": [
    "# 사용자로부터 입력받은 모든 정수의 합을 구하는 프로그램 작성(함수로 구현)\n",
    "user_list = input('여러 정수를 입력하세요: ').split()\n",
    "int_list = [int(ch) for ch in user_list]\n",
    "# int_list = list(map(int,input().split()))\n",
    "\n",
    "print('사용자가 입력한 정수 목록 = ', int_list)\n",
    "print('정수들의 총 합 = ', smart_add(*int_list))\n",
    "\n",
    "\n"
   ]
  },
  {
   "cell_type": "markdown",
   "metadata": {},
   "source": [
    "> 키워드 인수 사용하기"
   ]
  },
  {
   "cell_type": "code",
   "execution_count": 83,
   "metadata": {},
   "outputs": [
    {
     "name": "stdout",
     "output_type": "stream",
     "text": [
      "이름: 비트캠프\n",
      "나이: 27\n",
      "주소: 서울 강남구\n",
      "\n",
      "이름: 30\n",
      "나이: 서울 강남구\n",
      "주소: 비트캠프\n"
     ]
    }
   ],
   "source": [
    "def personam_info(name, age, address):\n",
    "    print('이름:', name)\n",
    "    print('나이:', age)\n",
    "    print('주소:', address)\n",
    "    \n",
    "personam_info('비트캠프', 27, '서울 강남구')\n",
    "print()\n",
    "personam_info(30, '서울 강남구', '비트캠프')"
   ]
  },
  {
   "cell_type": "code",
   "execution_count": 85,
   "metadata": {},
   "outputs": [
    {
     "name": "stdout",
     "output_type": "stream",
     "text": [
      "이름: 비트캠프\n",
      "나이: 30\n",
      "주소: 서울 강남구\n"
     ]
    }
   ],
   "source": [
    "personam_info(age = 30, address = '서울 강남구', name = '비트캠프')"
   ]
  },
  {
   "cell_type": "code",
   "execution_count": 97,
   "metadata": {},
   "outputs": [
    {
     "name": "stdout",
     "output_type": "stream",
     "text": [
      "이름: name\n",
      "나이: age\n",
      "주소: address\n",
      "\n",
      "이름: 비트캠프3\n",
      "나이: 10\n",
      "주소: 경남\n"
     ]
    }
   ],
   "source": [
    "# 딕셔너리 언패킹\n",
    "# def personam_info(name, age, address):\n",
    "#     print('이름:', name)\n",
    "#     print('나이:', age)\n",
    "#     print('주소:', address)\n",
    "di = {'name':'비트캠프3', 'age':10, 'address':'경남'}\n",
    "personam_info(*{'name':'비트캠프3', 'age':10, 'address':'경남'})\n",
    "print()\n",
    "personam_info(**{'name':'비트캠프3', 'age':10, 'address':'경남'})\n"
   ]
  },
  {
   "cell_type": "markdown",
   "metadata": {},
   "source": [
    "> 매개변수에 초기값 지정하기"
   ]
  },
  {
   "cell_type": "code",
   "execution_count": 99,
   "metadata": {},
   "outputs": [
    {
     "name": "stdout",
     "output_type": "stream",
     "text": [
      "이름: 1번 학생\n",
      "나이: 27\n",
      "주소: 서울\n",
      "\n",
      "이름: 2번 학생\n",
      "나이: 35\n",
      "주소: 서울\n",
      "\n",
      "이름: 3번 학생\n",
      "나이: 27\n",
      "주소: 충북\n",
      "\n"
     ]
    }
   ],
   "source": [
    "def general_info(name, age, address = '서울'):\n",
    "    print('이름:', name)\n",
    "    print('나이:', age)\n",
    "    print('주소:', address)\n",
    "    print()\n",
    "\n",
    "general_info('1번 학생', 27)\n",
    "general_info('2번 학생', 35)\n",
    "general_info('3번 학생', 27, '충북')\n"
   ]
  },
  {
   "cell_type": "code",
   "execution_count": 104,
   "metadata": {},
   "outputs": [
    {
     "name": "stdout",
     "output_type": "stream",
     "text": [
      "1 10 100\n",
      "1 2 100\n",
      "1 2 3\n"
     ]
    }
   ],
   "source": [
    "def test(x, y=10, z=100):\n",
    "    print(x, y, z)\n",
    "    \n",
    "test(1)\n",
    "test(1, 2)\n",
    "test(1, 2, 3)"
   ]
  },
  {
   "cell_type": "code",
   "execution_count": 107,
   "metadata": {},
   "outputs": [
    {
     "name": "stdout",
     "output_type": "stream",
     "text": [
      "a b c\n",
      "a/b/c\n",
      "a b c..........."
     ]
    }
   ],
   "source": [
    "print('a', 'b', 'c')        # sep = '', end = \\n\n",
    "print('a', 'b', 'c', sep ='/')\n",
    "print('a', 'b', 'c', end ='...........')"
   ]
  },
  {
   "cell_type": "markdown",
   "metadata": {},
   "source": [
    "> 가변인수 함수 VS 키워드 가변인수 함수"
   ]
  },
  {
   "cell_type": "code",
   "execution_count": 112,
   "metadata": {},
   "outputs": [
    {
     "name": "stdout",
     "output_type": "stream",
     "text": [
      "a,b,c,\n",
      "1,2,3,4,5,6,7,\n",
      "0,100,200,300,400,500,600,700,800,900,1000,1100,1200,1300,1400,1500,\n"
     ]
    }
   ],
   "source": [
    "def ginfo(*args):\n",
    "    for e in args:\n",
    "        print(e, end = ',')\n",
    "    print()\n",
    "\n",
    "ginfo('a', 'b', 'c')\n",
    "ginfo(1, 2, 3, 4, 5, 6, 7)\n",
    "\n",
    "\n",
    "# 리스트 내포\n",
    "li = [i*100 for i in range(16)]\n",
    "\n",
    "# 리스트 언패킹\n",
    "ginfo(*li)\n"
   ]
  },
  {
   "cell_type": "markdown",
   "metadata": {},
   "source": [
    "> 리턴(return)"
   ]
  },
  {
   "cell_type": "code",
   "execution_count": 115,
   "metadata": {},
   "outputs": [
    {
     "name": "stdout",
     "output_type": "stream",
     "text": [
      "A 위치입니다\n",
      "100\n",
      "None\n"
     ]
    }
   ],
   "source": [
    "# 키워드 : return\n",
    "# 함수를 실행했던 위치로 돌아가라는 뜻 또는 함수를 빠져나라는 뜻\n",
    "\n",
    "# 1. 자료 없이 리턴\n",
    "def return_test():\n",
    "    print('A 위치입니다')\n",
    "    return\n",
    "    print('B 위치입니다')\n",
    "    print('C 위치입니다')\n",
    "    \n",
    "return_test()\n",
    "\n",
    "# 2. 자료와 함께 리턴하기\n",
    "def return_test():\n",
    "    return 100\n",
    "\n",
    "value = return_test()\n",
    "print(value)\n",
    "\n",
    "\n",
    "# 3. 아무것도 리턴하기 않기\n",
    "def return_test():\n",
    "    return\n",
    "\n",
    "value = return_test()\n",
    "print(value)"
   ]
  }
 ],
 "metadata": {
  "interpreter": {
   "hash": "054c0b5073ae8ed56926c5c67113945079b283bacf1a269ae7086b3d9eebd60c"
  },
  "kernelspec": {
   "display_name": "Python 3.10.1 64-bit",
   "language": "python",
   "name": "python3"
  },
  "language_info": {
   "codemirror_mode": {
    "name": "ipython",
    "version": 3
   },
   "file_extension": ".py",
   "mimetype": "text/x-python",
   "name": "python",
   "nbconvert_exporter": "python",
   "pygments_lexer": "ipython3",
   "version": "3.10.1"
  },
  "orig_nbformat": 4
 },
 "nbformat": 4,
 "nbformat_minor": 2
}
