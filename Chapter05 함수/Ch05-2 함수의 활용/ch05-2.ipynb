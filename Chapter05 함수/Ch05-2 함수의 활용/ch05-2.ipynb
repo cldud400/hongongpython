{
 "cells": [
  {
   "cell_type": "markdown",
   "metadata": {},
   "source": [
    "### ch05-2 함수의 활용\n",
    "---\n",
    "#### ***재귀함수***와 ***변수의 유효 범위***"
   ]
  },
  {
   "cell_type": "markdown",
   "metadata": {},
   "source": [
    "> 재귀함수"
   ]
  },
  {
   "cell_type": "code",
   "execution_count": 3,
   "metadata": {},
   "outputs": [],
   "source": [
    "# 함수에서 재귀호출 : 함수 안에서 자기자신을 호출하는 방식(recursive call)\n",
    "def hello():\n",
    "    print('Hello~ ')\n",
    "    hello()\n",
    "    \n",
    "hello()\n",
    "\n",
    "# RecursionError: maximum recursion depth exceeded while calling a Python object"
   ]
  },
  {
   "cell_type": "code",
   "execution_count": 1,
   "metadata": {},
   "outputs": [
    {
     "name": "stdout",
     "output_type": "stream",
     "text": [
      "5 Hello~ \n",
      "4 Hello~ \n",
      "3 Hello~ \n",
      "2 Hello~ \n",
      "1 Hello~ \n"
     ]
    }
   ],
   "source": [
    "# 재귀호출에 종료 조건 반드시 만들기!!!\n",
    "\n",
    "def hello(cnt):\n",
    "    if cnt == 0:\n",
    "        return\n",
    "    print(cnt, 'Hello~ ')\n",
    "    hello(cnt-1)\n",
    "    \n",
    "hello(5)"
   ]
  },
  {
   "cell_type": "markdown",
   "metadata": {},
   "source": [
    "> 반복문으로 팩토리얼 구하기"
   ]
  },
  {
   "cell_type": "code",
   "execution_count": 2,
   "metadata": {},
   "outputs": [
    {
     "name": "stdout",
     "output_type": "stream",
     "text": [
      "1x 2x 3x 4x 5x \n"
     ]
    },
    {
     "data": {
      "text/plain": [
       "120"
      ]
     },
     "execution_count": 2,
     "metadata": {},
     "output_type": "execute_result"
    }
   ],
   "source": [
    "# 5! = 5 * 4 * 3 * 2 * 1\n",
    "def factorial(n):\n",
    "    result = 1\n",
    "    text = ''\n",
    "    for i in range(1, n+1):\n",
    "        result *= i\n",
    "        print(text + str(i) + 'x', end = ' ')\n",
    "    print()\n",
    "    return result\n",
    "\n",
    "factorial(5)"
   ]
  },
  {
   "cell_type": "markdown",
   "metadata": {},
   "source": [
    "> 재귀호출로 팩토리얼 구하기"
   ]
  },
  {
   "cell_type": "code",
   "execution_count": 2,
   "metadata": {},
   "outputs": [
    {
     "data": {
      "text/plain": [
       "120"
      ]
     },
     "execution_count": 2,
     "metadata": {},
     "output_type": "execute_result"
    }
   ],
   "source": [
    "def factorial(n):\n",
    "    if n == 1:\n",
    "        return 1\n",
    "    return n * factorial(n-1)\n",
    "    \n",
    "factorial(5)"
   ]
  },
  {
   "cell_type": "markdown",
   "metadata": {},
   "source": [
    "> 변수의 유효 범위"
   ]
  },
  {
   "cell_type": "code",
   "execution_count": 6,
   "metadata": {},
   "outputs": [
    {
     "name": "stdout",
     "output_type": "stream",
     "text": [
      "m = 10\n",
      "10\n"
     ]
    }
   ],
   "source": [
    "# 변수의 유효 범위(variable scope)\n",
    "# 변수가 선언된 위치에 따라서 해당 변수가 영향을 미치는 범위가 달라진다.\n",
    "\n",
    "# 코드영역, 데이터영역, 스텍메모리, 힙메모리\n",
    "m = 100\n",
    "def out():\n",
    "    global m\n",
    "    m = 10\n",
    "    print('m =',m)\n",
    "out()\n",
    "print(m)"
   ]
  },
  {
   "cell_type": "markdown",
   "metadata": {},
   "source": [
    "> 여러가지 피보나치 수열"
   ]
  },
  {
   "cell_type": "code",
   "execution_count": 5,
   "metadata": {},
   "outputs": [
    {
     "name": "stdout",
     "output_type": "stream",
     "text": [
      "0 1 1 2 3 5 8 13 21 34 55 \n",
      "0 1 1 2 3 5 8 13 21 34 55 \n",
      "0 1 1 2 3 5 8 13 21 34 55 \n",
      "[0, 1, 1, 2, 3, 5, 8, 13, 21, 34, 55]\n"
     ]
    }
   ],
   "source": [
    "# 함수 ver\n",
    "def fibo_(n):\n",
    "    f1 = 0      # 점화식\n",
    "    f2 = 1      # 점화식\n",
    "    if n <= 2 and n > 0:\n",
    "        return f2\n",
    "    elif not n:\n",
    "        return 0\n",
    "    for i in range(n-1):\n",
    "        f3 = f1 + f2\n",
    "        f1 = f2\n",
    "        f2 = f3\n",
    "    return f3\n",
    "# 함수ver 출력\n",
    "for i in range(11):\n",
    "    print(fibo_(i), end = ' ')\n",
    "print()\n",
    "\n",
    "\n",
    "\n",
    "# 트리재귀 ver\n",
    "def fibo_1(n):\n",
    "    if n <= 1:\n",
    "        return n\n",
    "    return fibo_1(n-1) + fibo_1(n-2)\n",
    "# 트리재귀 출력\n",
    "for i in range(11):\n",
    "    print(fibo_1(i), end = ' ')\n",
    "print()\n",
    "    \n",
    "    \n",
    "    \n",
    "# 꼬리재귀 ver\n",
    "def fibo_2(n, current = 0, prev = 1):    # 초기값 : 점화식 0, 1\n",
    "    if n > 0:\n",
    "        return fibo_2(n-1, current + prev, current)\n",
    "    else:\n",
    "        return current\n",
    "# 꼬리재귀 출력\n",
    "for i in range(11):\n",
    "    print(fibo_2(i), end = ' ')\n",
    "print()\n",
    "\n",
    "\n",
    "\n",
    "# 피보나치 리스트 ver\n",
    "list_ = [0, 1]  # 점화식\n",
    "\n",
    "n = 10\n",
    "for i in range(2, n+1):\n",
    "    list_.append(list_[i-1] + list_[i-2])\n",
    "print(list_)"
   ]
  },
  {
   "cell_type": "code",
   "execution_count": null,
   "metadata": {},
   "outputs": [],
   "source": []
  }
 ],
 "metadata": {
  "interpreter": {
   "hash": "054c0b5073ae8ed56926c5c67113945079b283bacf1a269ae7086b3d9eebd60c"
  },
  "kernelspec": {
   "display_name": "Python 3.10.1 64-bit",
   "language": "python",
   "name": "python3"
  },
  "language_info": {
   "codemirror_mode": {
    "name": "ipython",
    "version": 3
   },
   "file_extension": ".py",
   "mimetype": "text/x-python",
   "name": "python",
   "nbconvert_exporter": "python",
   "pygments_lexer": "ipython3",
   "version": "3.10.1"
  },
  "orig_nbformat": 4
 },
 "nbformat": 4,
 "nbformat_minor": 2
}
