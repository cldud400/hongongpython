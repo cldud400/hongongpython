{
 "cells": [
  {
   "cell_type": "markdown",
   "metadata": {},
   "source": [
    "### 06-1 구문 오류와 예외\n",
    "---\n",
    "***에러(error)***의 발생과 처리"
   ]
  },
  {
   "cell_type": "code",
   "execution_count": 1,
   "metadata": {},
   "outputs": [],
   "source": [
    "# 1. 컴파일 에러(syntax error) : 실행 전에 발생하는 문법오류\n",
    "# 2. 런타임 에러(runtime error) : 실행 중에 발생하는 오류, 예외(Exception)\n",
    "# 3. 논리, 의미론적 에러(Logic, Semantic Error) : \n",
    "#           결과가 예상과 달리 의도한 작업을 수행하지 못함(에러 메세지가 없어 수정시 어려움)"
   ]
  },
  {
   "cell_type": "markdown",
   "metadata": {},
   "source": [
    "> 구문 오류"
   ]
  },
  {
   "cell_type": "code",
   "execution_count": 4,
   "metadata": {},
   "outputs": [
    {
     "ename": "SyntaxError",
     "evalue": "invalid syntax (Temp/ipykernel_6160/2572134485.py, line 1)",
     "output_type": "error",
     "traceback": [
      "\u001b[1;36m  File \u001b[1;32m\"C:\\Users\\bitcamp\\AppData\\Local\\Temp/ipykernel_6160/2572134485.py\"\u001b[1;36m, line \u001b[1;32m1\u001b[0m\n\u001b[1;33m    int i = 0;\u001b[0m\n\u001b[1;37m        ^\u001b[0m\n\u001b[1;31mSyntaxError\u001b[0m\u001b[1;31m:\u001b[0m invalid syntax\n"
     ]
    }
   ],
   "source": [
    "int i = 0;\n",
    "if i > 0\n",
    "    print(i)"
   ]
  },
  {
   "cell_type": "markdown",
   "metadata": {},
   "source": [
    "> 예외(exception)"
   ]
  },
  {
   "cell_type": "code",
   "execution_count": 21,
   "metadata": {},
   "outputs": [
    {
     "name": "stdout",
     "output_type": "stream",
     "text": [
      "프로그램이 시작되었습니다.\n"
     ]
    },
    {
     "ename": "IndexError",
     "evalue": "string index out of range",
     "output_type": "error",
     "traceback": [
      "\u001b[1;31m---------------------------------------------------------------------------\u001b[0m",
      "\u001b[1;31mIndexError\u001b[0m                                Traceback (most recent call last)",
      "\u001b[1;32m~\\AppData\\Local\\Temp/ipykernel_6160/582456964.py\u001b[0m in \u001b[0;36m<module>\u001b[1;34m\u001b[0m\n\u001b[0;32m      3\u001b[0m \u001b[1;31m# 런타임 오류\u001b[0m\u001b[1;33m\u001b[0m\u001b[1;33m\u001b[0m\u001b[0m\n\u001b[0;32m      4\u001b[0m \u001b[0mtext\u001b[0m \u001b[1;33m=\u001b[0m \u001b[1;34m'abc'\u001b[0m\u001b[1;33m\u001b[0m\u001b[1;33m\u001b[0m\u001b[0m\n\u001b[1;32m----> 5\u001b[1;33m \u001b[0mtext\u001b[0m\u001b[1;33m[\u001b[0m\u001b[1;36m3\u001b[0m\u001b[1;33m]\u001b[0m\u001b[1;33m\u001b[0m\u001b[1;33m\u001b[0m\u001b[0m\n\u001b[0m\u001b[0;32m      6\u001b[0m \u001b[1;33m\u001b[0m\u001b[0m\n\u001b[0;32m      7\u001b[0m \u001b[1;33m\u001b[0m\u001b[0m\n",
      "\u001b[1;31mIndexError\u001b[0m: string index out of range"
     ]
    }
   ],
   "source": [
    "print('프로그램이 시작되었습니다.')\n",
    "\n",
    "# 런타임 오류\n",
    "text = 'abc'\n",
    "text[3]\n",
    "\n",
    "\n",
    "# i = 0\n",
    "# result = 3.14 / i\n",
    "\n",
    "print('프로그램이 종료되었습니다.')\n"
   ]
  },
  {
   "cell_type": "markdown",
   "metadata": {},
   "source": [
    "> 기본 예외 처리(exception handling)"
   ]
  },
  {
   "cell_type": "code",
   "execution_count": 15,
   "metadata": {},
   "outputs": [
    {
     "name": "stdout",
     "output_type": "stream",
     "text": [
      "프로그램이 시작되었습니다.\n",
      "2의 제곱근은 1.414입니다.\n",
      "프로그램이 종료되었습니다.\n"
     ]
    }
   ],
   "source": [
    "print('프로그램이 시작되었습니다.')\n",
    "\n",
    "user_input = input('입력한 정수의 제곱근을 구합니다.: ')\n",
    "if user_input.isdigit():\n",
    "    print(f'{user_input}의 제곱근은 {round(int(user_input)**0.5, 3)}입니다.')\n",
    "else:\n",
    "    print('정수가 아닙니다. 프로그램을 종료합니다.')\n",
    "\n",
    "print('프로그램이 종료되었습니다.')"
   ]
  },
  {
   "cell_type": "markdown",
   "metadata": {},
   "source": [
    "> try ~ except"
   ]
  },
  {
   "cell_type": "code",
   "execution_count": 22,
   "metadata": {},
   "outputs": [
    {
     "name": "stdout",
     "output_type": "stream",
     "text": [
      "프로그램이 시작되었습니다.\n",
      "예외가 발생되었습니다 float division by zero\n",
      "프로그램이 정상적으로 종료되었습니다.\n"
     ]
    }
   ],
   "source": [
    "print('프로그램이 시작되었습니다.')\n",
    "\n",
    "i = 0\n",
    "PI = 3.141592\n",
    "\n",
    "try:\n",
    "    # 예외가 발생할 가능성이 있는 코드\n",
    "    result = PI / i\n",
    "\n",
    "except ZeroDivisionError as ex:\n",
    "    # 예외 해당되는 처리 코드 작성\n",
    "    print('예외가 발생되었습니다', ex)\n",
    "\n",
    "\n",
    "\n",
    "print('프로그램이 정상적으로 종료되었습니다.')"
   ]
  },
  {
   "cell_type": "code",
   "execution_count": 27,
   "metadata": {},
   "outputs": [
    {
     "name": "stdout",
     "output_type": "stream",
     "text": [
      "프로그램이 시작되었습니다.============\n",
      "예외 발생 could not convert string to float: 'A'\n",
      "예외 발생 could not convert string to float: '파이썬'\n",
      "['52', '273', '103']\n",
      "프로그램이 종료되었습니다.============\n"
     ]
    }
   ],
   "source": [
    "print('프로그램이 시작되었습니다.============')\n",
    "\n",
    "list_txt = ['52', '273', 'A', '파이썬', '103']\n",
    "numbers = []\n",
    "for item in list_txt:\n",
    "    try:\n",
    "        float(item)\n",
    "        numbers.append(item)\n",
    "    except Exception as ex:\n",
    "        print('예외 발생', str(ex))\n",
    "        #pass\n",
    "        \n",
    "print(numbers)\n",
    "\n",
    "print('프로그램이 종료되었습니다.============')"
   ]
  },
  {
   "cell_type": "markdown",
   "metadata": {},
   "source": [
    "> try ~ except ~ except ~ except ~ ..."
   ]
  },
  {
   "cell_type": "code",
   "execution_count": 48,
   "metadata": {},
   "outputs": [
    {
     "name": "stdout",
     "output_type": "stream",
     "text": [
      "형변환 에러! invalid literal for int() with base 10: '가'\n"
     ]
    }
   ],
   "source": [
    "index = [0, 1, 2]\n",
    "\n",
    "try :\n",
    "    index[0] = 1\n",
    "    result = index[1] / index[0]\n",
    "    int('가')\n",
    "    \n",
    "except IndexError as ei: print('인덱스 에러 발생!', str(ei))\n",
    "except ZeroDivisionError as ez: print('0으로 나눌 수 없습니다!', str(ez)) \n",
    "except ValueError as ev: print('형변환 에러!', str(ev))\n",
    "except Exception as ex : print(type(ex), ex)"
   ]
  },
  {
   "cell_type": "markdown",
   "metadata": {},
   "source": [
    "> try ~ except ~ else"
   ]
  },
  {
   "cell_type": "code",
   "execution_count": 52,
   "metadata": {},
   "outputs": [
    {
     "name": "stdout",
     "output_type": "stream",
     "text": [
      "1300\n"
     ]
    }
   ],
   "source": [
    "try:\n",
    "    number_input = int(input('정수입력: '))\n",
    "\n",
    "except Exception as ex:\n",
    "    print('예외발생!', ex)\n",
    "    \n",
    "else:\n",
    "    print(number_input * 100)"
   ]
  },
  {
   "cell_type": "markdown",
   "metadata": {},
   "source": [
    "> finally 구문"
   ]
  },
  {
   "cell_type": "code",
   "execution_count": 70,
   "metadata": {},
   "outputs": [
    {
     "name": "stdout",
     "output_type": "stream",
     "text": [
      "입력값은 19입니다.\n",
      "19\n",
      "else의 예외 list index out of range\n",
      "프로그램을 종료합니다.\n"
     ]
    }
   ],
   "source": [
    "index = []\n",
    "try:\n",
    "    number_input = int(input(\"Enter integer > \"))\n",
    "    \n",
    "except Exception as ex:\n",
    "    print('입력 오류입니다.', ex)\n",
    "\n",
    "else:\n",
    "    print('입력값은 %d입니다.' % number_input)\n",
    "    index.append(number_input)\n",
    "    try:\n",
    "        for i in range(3): print(index[i])\n",
    "    except Exception as e:\n",
    "        print('else의 예외', str(e))\n",
    "        \n",
    "# finally 예외가 발생하든지 않든지 '무조건' 실행\n",
    "finally:\n",
    "    print('프로그램을 종료합니다.')\n",
    "    \n",
    "    "
   ]
  },
  {
   "cell_type": "code",
   "execution_count": 71,
   "metadata": {},
   "outputs": [
    {
     "name": "stdout",
     "output_type": "stream",
     "text": [
      "file.closed: True\n"
     ]
    }
   ],
   "source": [
    "file_name = 'basic.txt'\n",
    "file_path = '..\\\\..\\\\source\\\\'\n",
    "\n",
    "try:\n",
    "    fo = open(file_path + file_name, 'rt', encoding='utf-8')\n",
    "    fo.read()\n",
    "    fo.close()\n",
    "except Exception as e:\n",
    "    print(str(e))\n",
    "\n",
    "\n",
    "print('file.closed:', fo.closed)"
   ]
  },
  {
   "cell_type": "code",
   "execution_count": 73,
   "metadata": {},
   "outputs": [
    {
     "name": "stdout",
     "output_type": "stream",
     "text": [
      "[Errno 2] No such file or directory: '..\\\\..\\\\source\\\\basicsss.txt'\n",
      "file.closed: True\n"
     ]
    }
   ],
   "source": [
    "file_name = 'basicsss.txt'\n",
    "file_path = '..\\\\..\\\\source\\\\'\n",
    "\n",
    "try:\n",
    "    # 파일이 없는 경우\n",
    "    # USB 파일을 읽는 중 연결이 해제된 겅우\n",
    "    # 기타 하드웨어 장치 문제 발생 등..\n",
    "    fo = open(file_path + file_name, 'rt', encoding='utf-8')\n",
    "    fo.read()\n",
    "\n",
    "except Exception as e:\n",
    "    print(str(e))\n",
    "finally:\n",
    "    fo.close()\n",
    "\n",
    "print('file.closed:', fo.closed)"
   ]
  },
  {
   "cell_type": "code",
   "execution_count": 77,
   "metadata": {},
   "outputs": [
    {
     "name": "stdout",
     "output_type": "stream",
     "text": [
      "test() 시작\n",
      "1....\n",
      "finally....\n"
     ]
    }
   ],
   "source": [
    "# finally VS return\n",
    "def test():\n",
    "    print('test() 시작')\n",
    "    try:\n",
    "        print('1....')\n",
    "        return\n",
    "        print('2....')\n",
    "    except: print('except....')\n",
    "    else: print('else....')\n",
    "    finally : print('finally....')\n",
    "    print('test() 끝')\n",
    "test()\n",
    "        "
   ]
  },
  {
   "cell_type": "code",
   "execution_count": 78,
   "metadata": {},
   "outputs": [
    {
     "name": "stdout",
     "output_type": "stream",
     "text": [
      "try 1....\n",
      "try 2....\n",
      "finally....\n",
      "프로그램 종료\n"
     ]
    }
   ],
   "source": [
    "# finally VS break\n",
    "while True:\n",
    "    try:\n",
    "        print('try 1....')\n",
    "        print('try 2....')\n",
    "        break\n",
    "        print('try 3....')\n",
    "    except: print('except....')\n",
    "    else: print('else....')\n",
    "    finally: print('finally....')\n",
    "    \n",
    "print('프로그램 종료')"
   ]
  }
 ],
 "metadata": {
  "interpreter": {
   "hash": "054c0b5073ae8ed56926c5c67113945079b283bacf1a269ae7086b3d9eebd60c"
  },
  "kernelspec": {
   "display_name": "Python 3.10.1 64-bit",
   "language": "python",
   "name": "python3"
  },
  "language_info": {
   "codemirror_mode": {
    "name": "ipython",
    "version": 3
   },
   "file_extension": ".py",
   "mimetype": "text/x-python",
   "name": "python",
   "nbconvert_exporter": "python",
   "pygments_lexer": "ipython3",
   "version": "3.10.1"
  },
  "orig_nbformat": 4
 },
 "nbformat": 4,
 "nbformat_minor": 2
}
