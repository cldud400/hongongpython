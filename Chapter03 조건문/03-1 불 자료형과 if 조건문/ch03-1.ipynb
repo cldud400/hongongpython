{
 "cells": [
  {
   "cell_type": "markdown",
   "metadata": {},
   "source": [
    "### 03-1 불 자료형과 if 조건문\n",
    "---\n",
    "#### 시작하기 전에\n",
    "***Boolean*** **불린** 또는 **불리언** : **True**(참)과 **False**(거짓)을 나타내는 값"
   ]
  },
  {
   "cell_type": "code",
   "execution_count": 3,
   "metadata": {},
   "outputs": [
    {
     "name": "stdout",
     "output_type": "stream",
     "text": [
      "True False <class 'bool'>\n"
     ]
    }
   ],
   "source": [
    "a = True\n",
    "b = False\n",
    "print(a,b,type(a))\n"
   ]
  },
  {
   "cell_type": "markdown",
   "metadata": {},
   "source": [
    "> bool 만들기 : 비교연산자"
   ]
  },
  {
   "cell_type": "code",
   "execution_count": 10,
   "metadata": {},
   "outputs": [
    {
     "name": "stdout",
     "output_type": "stream",
     "text": [
      "False  True\n",
      "True  False\n",
      "True  False\n"
     ]
    }
   ],
   "source": [
    "# 숫자비교\n",
    "print(10 == 100, end = '  ')\n",
    "print(10 != 100)\n",
    "print(10 < 100, end = '  ')\n",
    "print(10 > 100)\n",
    "print(10 <= 100, end = '  ')\n",
    "print(10 >= 100)"
   ]
  },
  {
   "cell_type": "code",
   "execution_count": null,
   "metadata": {},
   "outputs": [],
   "source": [
    "# 문자열 비교\n",
    "print('BAN' == 'ban')\n",
    "print('BAN' == 'BAN')\n",
    "print('BAN' != 'KIM')\n",
    "print('A' < 'K')        # 아스키코드 표의 순서를 비교한다\n",
    "print('A' < 'a')\n",
    "print('가방' > '나가')\n"
   ]
  },
  {
   "cell_type": "code",
   "execution_count": 42,
   "metadata": {},
   "outputs": [
    {
     "name": "stdout",
     "output_type": "stream",
     "text": [
      "True\n"
     ]
    }
   ],
   "source": [
    "# 범위 비교\n",
    "x = 25\n",
    "print( 10 < x < 30 )"
   ]
  },
  {
   "cell_type": "markdown",
   "metadata": {},
   "source": [
    "> bool 연산하기 : 논리 연산자"
   ]
  },
  {
   "cell_type": "code",
   "execution_count": 52,
   "metadata": {},
   "outputs": [
    {
     "data": {
      "text/plain": [
       "True"
      ]
     },
     "execution_count": 52,
     "metadata": {},
     "output_type": "execute_result"
    }
   ],
   "source": [
    "# bool 끼리 연산 : 논리 연산자(not, and, or)\n",
    "\n",
    "# and는 All 모든 값이 True 이어야 True 리턴\n",
    "True and True                           # True\n",
    "True and True and True and False        # False\n",
    "\n",
    "# or는 Any 어느 하나라도 True이면 True 리턴\n",
    "True or False                           # True\n",
    "False or False or False or False        # False\n",
    "\n",
    "# not은 논리값 뒤집기(반전)\n",
    "not True                                # False\n",
    "not False                               # True\n",
    "\n",
    "# 논리 연산자의 우선순위 : not > and > or\n",
    "not True and False or not False         # True\n",
    "((not True) and False) or (not False)"
   ]
  },
  {
   "cell_type": "markdown",
   "metadata": {},
   "source": [
    "> 논리 연산자와 비교 연산자를 함께 사용"
   ]
  },
  {
   "cell_type": "code",
   "execution_count": 55,
   "metadata": {},
   "outputs": [
    {
     "data": {
      "text/plain": [
       "False"
      ]
     },
     "execution_count": 55,
     "metadata": {},
     "output_type": "execute_result"
    }
   ],
   "source": [
    "# 비교 연산자로 비교한 결과를 논리 연산자로 최종 리턴\n",
    "10 == 10 and 10 != 5                    # True\n",
    "10 > 5 or 10 < 3                        # True\n",
    "not 10 > 5"
   ]
  },
  {
   "cell_type": "markdown",
   "metadata": {},
   "source": [
    "> 자료형의 참과 거짓 : bool() 내장(built-in)함수"
   ]
  },
  {
   "cell_type": "code",
   "execution_count": 72,
   "metadata": {},
   "outputs": [
    {
     "data": {
      "text/plain": [
       "True"
      ]
     },
     "execution_count": 72,
     "metadata": {},
     "output_type": "execute_result"
    }
   ],
   "source": [
    "1 + True\n",
    "# 0을 제외한 모든 숫자는 True\n",
    "bool(1234)                              # True\n",
    "bool(-1)                                # True\n",
    "bool(0)                                 # False\n",
    "bool(3.14)                              # True\n",
    "bool(0.0)                               # False\n",
    "\n",
    "# 빈문자만 False\n",
    "bool('문자열')                          # True\n",
    "bool('')                                # False\n",
    "\n",
    "# 비어있는 컨테이너만 False ([], (), {})\n",
    "bool([1,2,3])                           # True\n",
    "bool([])                                # False"
   ]
  },
  {
   "cell_type": "markdown",
   "metadata": {},
   "source": [
    "> 단락 평가(short-circuit evalution) : 표현식에 대한 평가를 생략하는 방법"
   ]
  },
  {
   "cell_type": "code",
   "execution_count": 75,
   "metadata": {},
   "outputs": [
    {
     "data": {
      "text/plain": [
       "True"
      ]
     },
     "execution_count": 75,
     "metadata": {},
     "output_type": "execute_result"
    }
   ],
   "source": [
    "# 첫 번째 값이 거짓이므로 두 번째 값은 확인하지 않고 빠져나온다.\n",
    "False and True\n",
    "10 < 1 and 3 == 3 and 4 % 2 == 0\n",
    "\n",
    "# 첫 번째 값이 참이므로 두 번째 값은 확인하지 핞고 빠져나온다.\n",
    "True or True\n",
    "True or False\n",
    "10 > 1 or 3 == 3 or 4 % 2 == 0\n",
    "\n",
    "# 논리 연산식을 사용할 때 논리 판단 표현삭의 순서에 따라서 프로그램의 성능에 영향을 준다.\n",
    "\n"
   ]
  },
  {
   "cell_type": "markdown",
   "metadata": {},
   "source": [
    "> bool의 사용 : if, while등 조건식을 만들 때 사용"
   ]
  },
  {
   "cell_type": "code",
   "execution_count": 96,
   "metadata": {},
   "outputs": [
    {
     "name": "stdout",
     "output_type": "stream",
     "text": [
      "참\n",
      "13은 홀수입니다.\n",
      "[]\n",
      "False\n",
      "[1]\n",
      "[1, 2]\n"
     ]
    }
   ],
   "source": [
    "if True:\n",
    "    print('참')\n",
    "    \n",
    "n = 13\n",
    "if n % 2 == 1:\n",
    "    print(f'{n}은 홀수입니다.')\n",
    "else:\n",
    "    print(f'{n}은 짝수입니다.')\n",
    "    \n",
    "li = []\n",
    "print(li)\n",
    "print(bool(li))\n",
    "\n",
    "if not li:\n",
    "    li.append(1)\n",
    "    print(li)\n",
    "    \n",
    "if li:\n",
    "    li.append(2)\n",
    "    print(li)\n",
    "    "
   ]
  },
  {
   "cell_type": "code",
   "execution_count": 115,
   "metadata": {},
   "outputs": [
    {
     "name": "stdout",
     "output_type": "stream",
     "text": [
      "참\n",
      "['b', 'c', 'd', 'e', 'f']\n",
      "['c', 'd', 'e', 'f']\n",
      "['d', 'e', 'f']\n",
      "['e', 'f']\n",
      "['f']\n",
      "[]\n"
     ]
    }
   ],
   "source": [
    "# 프로그램에서 참과 거짓의 쓰임새 : while\n",
    "\n",
    "if [1, 2, 3] : \n",
    "    print('참')\n",
    "else:\n",
    "    print('거짓')\n",
    "\n",
    "a = ['a','b','c','d','e','f']\n",
    "\n",
    "while a:\n",
    "    a.pop(0)\n",
    "    print(a)"
   ]
  },
  {
   "cell_type": "markdown",
   "metadata": {},
   "source": [
    "> if 조건문 : 조건에 따라 코드의 실행을 분기하고자 할 때(실행의 흐름을 제어)"
   ]
  },
  {
   "cell_type": "code",
   "execution_count": 117,
   "metadata": {},
   "outputs": [
    {
     "name": "stdout",
     "output_type": "stream",
     "text": [
      "불합격입니다.\n"
     ]
    }
   ],
   "source": [
    "score = 55\n",
    "CUT_LINE = 60\n",
    "if score >= CUT_LINE:\n",
    "    print('합격 하셨습니다.')\n",
    "    print('축하드립니다.')\n",
    "else:\n",
    "    print('불합격입니다.')"
   ]
  },
  {
   "cell_type": "code",
   "execution_count": 2,
   "metadata": {},
   "outputs": [
    {
     "name": "stdout",
     "output_type": "stream",
     "text": [
      "양수입니다.\n"
     ]
    }
   ],
   "source": [
    "# 사용자로부터 정수를 입력받아 양수, 음수를 판별하는 프로그램 작성\n",
    "try:\n",
    "    num = int(input())\n",
    "    if num > 0:\n",
    "        print('양수입니다.')\n",
    "    elif num < 0:\n",
    "        print('음수입니다')\n",
    "    else:\n",
    "        print('0입니다')\n",
    "except:\n",
    "    print('잘못 입력하셨습니다.')\n",
    "    exit()"
   ]
  },
  {
   "cell_type": "code",
   "execution_count": 76,
   "metadata": {},
   "outputs": [
    {
     "name": "stdout",
     "output_type": "stream",
     "text": [
      "음수입니다\n"
     ]
    }
   ],
   "source": [
    "num = input()\n",
    "\n",
    "if num.isdecimal(): \n",
    "    num = int(num)\n",
    "    if num > 0:\n",
    "            print('양수입니다.')\n",
    "    elif num < 0:\n",
    "        print('음수입니다')\n",
    "    else:\n",
    "        print('0입니다')\n",
    "        \n",
    "elif num[0] == '-':\n",
    "    if num[1:].isdecimal(): \n",
    "        num = int(num)\n",
    "        if num < 0:\n",
    "            print('음수입니다')\n",
    "        else:\n",
    "            print('0입니다')\n",
    "    else:\n",
    "        print('잘못 입력하셨습니다.')\n",
    "    \n",
    "else:\n",
    "    print('잘못 입력하셨습니다.')"
   ]
  },
  {
   "cell_type": "code",
   "execution_count": 86,
   "metadata": {},
   "outputs": [],
   "source": [
    "num_ = input()\n",
    "if num_.lstrip('+-').isdigit() and num_.count('+') < 2 and num_.count('-') < 2:\n",
    "    num_ = int(num_)\n",
    "    if num_ > 0:\n",
    "            print('양수입니다.')\n",
    "    elif num_ < 0:\n",
    "        print('음수입니다')\n",
    "    else:\n",
    "        print('0입니다')"
   ]
  },
  {
   "cell_type": "code",
   "execution_count": null,
   "metadata": {},
   "outputs": [],
   "source": [
    "input_data = input('정수를 하나 입력하세요: ')\n",
    "number = None\n",
    "\n",
    "# 입력데이터 유효성 검증\n",
    "if not input_data.isalpha():\n",
    "    number = int(input_data)\n",
    "    print('입력값:', number)\n",
    "else:\n",
    "    print('숫자가 아닙니다.')\n",
    "    print('프로그램을 종료합니다')\n",
    "\n",
    "if number > 0:\n",
    "    print('양수 입니다.')\n",
    "if number < 0:\n",
    "    print('음수 입니다.')\n",
    "if number == 0:\n",
    "    print('0 입니다.')\n",
    "    \n",
    "    "
   ]
  },
  {
   "cell_type": "code",
   "execution_count": null,
   "metadata": {},
   "outputs": [],
   "source": [
    "a = input()\n",
    "if a.isdecimal():\n",
    "    a = int(a)\n",
    "elif a[0] == '-' and a[1:].isdecimal():\n",
    "    a = int(a)\n",
    "else:\n",
    "    print(a)"
   ]
  }
 ],
 "metadata": {
  "interpreter": {
   "hash": "054c0b5073ae8ed56926c5c67113945079b283bacf1a269ae7086b3d9eebd60c"
  },
  "kernelspec": {
   "display_name": "Python 3.10.1 64-bit",
   "language": "python",
   "name": "python3"
  },
  "language_info": {
   "codemirror_mode": {
    "name": "ipython",
    "version": 3
   },
   "file_extension": ".py",
   "mimetype": "text/x-python",
   "name": "python",
   "nbconvert_exporter": "python",
   "pygments_lexer": "ipython3",
   "version": "3.10.1"
  },
  "orig_nbformat": 4
 },
 "nbformat": 4,
 "nbformat_minor": 2
}
