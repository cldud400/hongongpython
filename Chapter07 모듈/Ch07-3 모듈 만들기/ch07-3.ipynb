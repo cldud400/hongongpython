{
 "cells": [
  {
   "cell_type": "markdown",
   "metadata": {},
   "source": [
    "### 07-3 모듈 만들기\n",
    "---\n",
    "***모듈(module)*** 변수, 함수, 클래스 등을 모아놓은 스크립트 파일"
   ]
  },
  {
   "cell_type": "markdown",
   "metadata": {},
   "source": [
    "> 모듈 만들기 : circle.py"
   ]
  },
  {
   "cell_type": "code",
   "execution_count": 1,
   "metadata": {},
   "outputs": [],
   "source": [
    "# from math import pi as PI\n",
    "\n",
    "# def number_input():\n",
    "#     output = input('숫자 입력 > ')\n",
    "#     return float(output)\n",
    "\n",
    "# def get_circumference(radius):\n",
    "#     return 2 * PI * radius\n",
    "\n",
    "# def ger_circle_area(radius):\n",
    "#     return PI * (radius ** 2)\n"
   ]
  },
  {
   "cell_type": "code",
   "execution_count": 2,
   "metadata": {},
   "outputs": [
    {
     "name": "stdout",
     "output_type": "stream",
     "text": [
      "원의 둘레:  6.283185307179586\n",
      "원 넓이:  3.141592653589793\n"
     ]
    }
   ],
   "source": [
    "# circle 모듈 사용\n",
    "\n",
    "import circle as cir\n",
    "\n",
    "r = cir.number_input()\n",
    "print('원의 둘레: ', cir.get_circumference(r))\n",
    "print('원 넓이: ', cir.ger_circle_area(r))\n"
   ]
  },
  {
   "cell_type": "code",
   "execution_count": 11,
   "metadata": {},
   "outputs": [
    {
     "name": "stdout",
     "output_type": "stream",
     "text": [
      "저는 30살 서울에사는 아이유입니다.\n"
     ]
    }
   ],
   "source": [
    "# class Person:\n",
    "#     def __init__(self, name, age, address):\n",
    "#         self.name = name\n",
    "#         self.age = age\n",
    "#         self.address = address\n",
    "    \n",
    "#     def greeting(self):\n",
    "#         print(f'저는 {self.age}살 {self.address}에 사는 {self.name}입니다.')\n",
    "\n",
    "from person import Person\n",
    "    \n",
    "iu = Person('아이유', 30, '서울')\n",
    "iu.greeting()   "
   ]
  },
  {
   "cell_type": "markdown",
   "metadata": {},
   "source": [
    "> if \\_\\_name__ == '\\_\\_main__' : ? "
   ]
  },
  {
   "cell_type": "code",
   "execution_count": 13,
   "metadata": {},
   "outputs": [
    {
     "name": "stdout",
     "output_type": "stream",
     "text": [
      "Hello 모듈 시작\n",
      "hello.py __name__ :  hello\n",
      "Hello 모듈 끝\n",
      "main.py __name__ __main__\n"
     ]
    }
   ],
   "source": [
    "# if __name__ == '__main__'\n",
    "# 현재 스크립트 파일이 실행되는 상태를 파악하기 위해 사용\n",
    "\n",
    "import hello\n",
    "print('main.py __name__', __name__)"
   ]
  }
 ],
 "metadata": {
  "interpreter": {
   "hash": "054c0b5073ae8ed56926c5c67113945079b283bacf1a269ae7086b3d9eebd60c"
  },
  "kernelspec": {
   "display_name": "Python 3.10.1 64-bit",
   "language": "python",
   "name": "python3"
  },
  "language_info": {
   "codemirror_mode": {
    "name": "ipython",
    "version": 3
   },
   "file_extension": ".py",
   "mimetype": "text/x-python",
   "name": "python",
   "nbconvert_exporter": "python",
   "pygments_lexer": "ipython3",
   "version": "3.10.1"
  },
  "orig_nbformat": 4
 },
 "nbformat": 4,
 "nbformat_minor": 2
}
